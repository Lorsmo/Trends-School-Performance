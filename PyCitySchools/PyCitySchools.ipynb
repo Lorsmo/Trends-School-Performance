{
 "cells": [
  {
   "cell_type": "markdown",
   "metadata": {},
   "source": [
    "# PyCity Schools Analysis\n",
    "\n",
    "* As a whole, schools with higher budgets, did not yield better test results. By contrast, schools with higher spending per student actually (\\$645-675) underperformed compared to schools with smaller budgets (<\\$585 per student).\n",
    "\n",
    "* As a whole, smaller and medium sized schools dramatically out-performed large sized schools on passing math performances (89-91% passing vs 67%).\n",
    "\n",
    "* As a whole, charter schools out-performed the public district schools across all metrics. However, more analysis will be required to glean if the effect is due to school practices or the fact that charter schools tend to serve smaller student populations per school. \n",
    "---"
   ]
  },
  {
   "cell_type": "code",
   "execution_count": 2,
   "metadata": {},
   "outputs": [],
   "source": [
    "# Dependencies and Setup\n",
    "import pandas as pd\n",
    "import numpy as np\n",
    "\n",
    "# File to Load (Remember to Change These)\n",
    "school_data_to_load = \"Resources/schools_complete.csv\"\n",
    "student_data_to_load = \"Resources/students_complete.csv\"\n",
    "\n",
    "# Read School and Student Data File and store into Pandas Data Frames\n",
    "school_data = pd.read_csv(school_data_to_load)\n",
    "student_data = pd.read_csv(student_data_to_load)\n",
    "\n",
    "# Combine the data into a single dataset\n",
    "school_data_complete = pd.merge(student_data, school_data, how=\"left\", on=[\"school_name\", \"school_name\"])"
   ]
  },
  {
   "cell_type": "markdown",
   "metadata": {},
   "source": [
    "## District Summary\n",
    "\n",
    "* Calculate the total number of schools\n",
    "\n",
    "* Calculate the total number of students\n",
    "\n",
    "* Calculate the total budget\n",
    "\n",
    "* Calculate the average math score \n",
    "\n",
    "* Calculate the average reading score\n",
    "\n",
    "* Calculate the overall passing rate (overall average score), i.e. (avg. math score + avg. reading score)/2\n",
    "\n",
    "* Calculate the percentage of students with a passing math score (70 or greater)\n",
    "\n",
    "* Calculate the percentage of students with a passing reading score (70 or greater)\n",
    "\n",
    "* Create a dataframe to hold the above results\n",
    "\n",
    "* Optional: give the displayed data cleaner formatting"
   ]
  },
  {
   "cell_type": "code",
   "execution_count": 3,
   "metadata": {},
   "outputs": [],
   "source": [
    "# Rename the columns\n",
    "pycity_df= school_data_complete.rename(columns={\"student_name\":\"Student Name\", \"gender\":\"Student Gender\", \"grade\":\"Student Grade\",\n",
    "         \"school_name\": \"School Name\", \"reading_score\": \"Student Reading Score\", \n",
    "         \"math_score\": \"Student Math Score\", \"type\": \"School Type\", \"size\": \"School Size\", \"budget\":\"School Budget\"})"
   ]
  },
  {
   "cell_type": "code",
   "execution_count": 4,
   "metadata": {},
   "outputs": [],
   "source": [
    "# Calculate the total number of schools\n",
    "total_schools = pycity_df[\"School ID\"].nunique()"
   ]
  },
  {
   "cell_type": "code",
   "execution_count": 5,
   "metadata": {},
   "outputs": [],
   "source": [
    "# Calculate the total number of students\n",
    "total_students = pycity_df[\"Student ID\"].nunique()"
   ]
  },
  {
   "cell_type": "code",
   "execution_count": 6,
   "metadata": {},
   "outputs": [],
   "source": [
    "# Calculate the total budget\n",
    "total_budget = pycity_df[\"School Budget\"].unique()\n",
    "total_budget = total_budget.sum()"
   ]
  },
  {
   "cell_type": "code",
   "execution_count": 7,
   "metadata": {},
   "outputs": [],
   "source": [
    "# Calculate the average math score\n",
    "average_math_score = pycity_df[\"Student Math Score\"].mean()"
   ]
  },
  {
   "cell_type": "code",
   "execution_count": 8,
   "metadata": {},
   "outputs": [],
   "source": [
    "# Calculate the average reading score\n",
    "average_reading_score = pycity_df[\"Student Reading Score\"].mean()"
   ]
  },
  {
   "cell_type": "code",
   "execution_count": 9,
   "metadata": {},
   "outputs": [],
   "source": [
    "# Calculate the overall passing rate\n",
    "overall_passing_rate = ((pycity_df[\"Student Math Score\"] + pycity_df[\"Student Reading Score\"]) / 2).mean()"
   ]
  },
  {
   "cell_type": "code",
   "execution_count": 10,
   "metadata": {},
   "outputs": [],
   "source": [
    "# Calculate the percentage of students with a passing math score (70 or greater)\n",
    "passing_math = pycity_df.loc[pycity_df[\"Student Math Score\"] >= 70]\n",
    "percentage_passing_math = passing_math[\"Student Math Score\"].count()/total_students*100"
   ]
  },
  {
   "cell_type": "code",
   "execution_count": 11,
   "metadata": {},
   "outputs": [],
   "source": [
    "# Calculate the percentage of students with a passing reading score (70 or greater)\n",
    "passing_reading = pycity_df.loc[pycity_df[\"Student Reading Score\"] >= 70]\n",
    "percentage_passing_reading = passing_reading[\"Student Reading Score\"].count()/total_students*100"
   ]
  },
  {
   "cell_type": "code",
   "execution_count": 12,
   "metadata": {},
   "outputs": [
    {
     "data": {
      "text/html": [
       "<style  type=\"text/css\" >\n",
       "</style><table id=\"T_2c9957b4_bbc0_11e9_9e31_f40f2408072a\" ><thead>    <tr>        <th class=\"col_heading level0 col0\" >Total Schools</th>        <th class=\"col_heading level0 col1\" >Total Students</th>        <th class=\"col_heading level0 col2\" >Total Budget</th>        <th class=\"col_heading level0 col3\" >Average Math Score</th>        <th class=\"col_heading level0 col4\" >Average Reading Score</th>        <th class=\"col_heading level0 col5\" >Passing Math</th>        <th class=\"col_heading level0 col6\" >Passing Reading</th>        <th class=\"col_heading level0 col7\" >Overall Passing Rate</th>    </tr></thead><tbody>\n",
       "                <tr>\n",
       "                                <td id=\"T_2c9957b4_bbc0_11e9_9e31_f40f2408072arow0_col0\" class=\"data row0 col0\" >15</td>\n",
       "                        <td id=\"T_2c9957b4_bbc0_11e9_9e31_f40f2408072arow0_col1\" class=\"data row0 col1\" >39,170</td>\n",
       "                        <td id=\"T_2c9957b4_bbc0_11e9_9e31_f40f2408072arow0_col2\" class=\"data row0 col2\" >$24,649,428.00</td>\n",
       "                        <td id=\"T_2c9957b4_bbc0_11e9_9e31_f40f2408072arow0_col3\" class=\"data row0 col3\" >79.0</td>\n",
       "                        <td id=\"T_2c9957b4_bbc0_11e9_9e31_f40f2408072arow0_col4\" class=\"data row0 col4\" >81.9</td>\n",
       "                        <td id=\"T_2c9957b4_bbc0_11e9_9e31_f40f2408072arow0_col5\" class=\"data row0 col5\" >75.0%</td>\n",
       "                        <td id=\"T_2c9957b4_bbc0_11e9_9e31_f40f2408072arow0_col6\" class=\"data row0 col6\" >85.8%</td>\n",
       "                        <td id=\"T_2c9957b4_bbc0_11e9_9e31_f40f2408072arow0_col7\" class=\"data row0 col7\" >80.4%</td>\n",
       "            </tr>\n",
       "    </tbody></table>"
      ],
      "text/plain": [
       "<pandas.io.formats.style.Styler at 0x114f21390>"
      ]
     },
     "execution_count": 12,
     "metadata": {},
     "output_type": "execute_result"
    }
   ],
   "source": [
    "# Create a dataframe to hold the above results\n",
    "summary_table = pd.DataFrame({\"Total Schools\": total_schools,\n",
    "                             \"Total Students\": total_students,\n",
    "                             \"Total Budget\": total_budget,\n",
    "                             \"Average Math Score\": average_math_score,\n",
    "                             \"Average Reading Score\": average_reading_score,\n",
    "                             \"Passing Math\": percentage_passing_math,\n",
    "                             \"Passing Reading\": percentage_passing_reading,\n",
    "                             \"Overall Passing Rate\": [overall_passing_rate]})\n",
    "\n",
    "format_dict = {\"Total Students\":\"{0:,.0f}\", \"Total Budget\": \"${0:,.2f}\", \"Average Math Score\": \"{0:,.1f}\",\n",
    "               \"Average Reading Score\":\"{0:,.1f}\", \"Passing Math\": \"{0:,.1f}%\", \"Passing Reading\": \"{0:,.1f}%\",\n",
    "              \"Overall Passing Rate\": \"{0:,.1f}%\"}\n",
    "summary_table.style.format(format_dict).hide_index()"
   ]
  },
  {
   "cell_type": "markdown",
   "metadata": {},
   "source": [
    "## School Summary"
   ]
  },
  {
   "cell_type": "markdown",
   "metadata": {},
   "source": [
    "* Create an overview table that summarizes key metrics about each school, including:\n",
    "  * School Name\n",
    "  * School Type\n",
    "  * Total Students\n",
    "  * Total School Budget\n",
    "  * Per Student Budget\n",
    "  * Average Math Score\n",
    "  * Average Reading Score\n",
    "  * % Passing Math\n",
    "  * % Passing Reading\n",
    "  * Overall Passing Rate (Average of the above two)\n",
    "  \n",
    "* Create a dataframe to hold the above results"
   ]
  },
  {
   "cell_type": "code",
   "execution_count": 13,
   "metadata": {},
   "outputs": [],
   "source": [
    "# Create a new table with schools grouped by name\n",
    "schools_table = pycity_df.groupby([\"School Name\"])"
   ]
  },
  {
   "cell_type": "code",
   "execution_count": 14,
   "metadata": {},
   "outputs": [],
   "source": [
    "# Set the type school for each school\n",
    "school_type = schools_table[\"School Type\"].unique()"
   ]
  },
  {
   "cell_type": "code",
   "execution_count": 15,
   "metadata": {},
   "outputs": [],
   "source": [
    "# Calculate the number of students per school\n",
    "student_per_school = schools_table[\"Student ID\"].count()"
   ]
  },
  {
   "cell_type": "code",
   "execution_count": 16,
   "metadata": {},
   "outputs": [],
   "source": [
    "# Set the budget for each school\n",
    "total_school_budget = schools_table[\"School Budget\"].unique()"
   ]
  },
  {
   "cell_type": "code",
   "execution_count": 17,
   "metadata": {},
   "outputs": [],
   "source": [
    "# Calculate the budget per student (divide the budget per school with the number of student in the school)\n",
    "per_student_budget = schools_table[\"School Budget\"].unique()/schools_table[\"Student ID\"].count()"
   ]
  },
  {
   "cell_type": "code",
   "execution_count": 18,
   "metadata": {},
   "outputs": [],
   "source": [
    "# Calculate the average math score\n",
    "average_math_score_school = schools_table[\"Student Math Score\"].mean()"
   ]
  },
  {
   "cell_type": "code",
   "execution_count": 19,
   "metadata": {},
   "outputs": [],
   "source": [
    "# Calculate the average reading score\n",
    "average_reading_score_school = schools_table[\"Student Reading Score\"].mean()"
   ]
  },
  {
   "cell_type": "code",
   "execution_count": 20,
   "metadata": {},
   "outputs": [],
   "source": [
    "# Calculate the number of students who passed math per school\n",
    "passing_math_per_school = passing_math.groupby([\"School Name\"]).count()\n",
    "\n",
    "# Calculate the percentage of students who passed math per school\n",
    "percentage_passing_math_school = passing_math_per_school[\"Student Math Score\"]/student_per_school*100"
   ]
  },
  {
   "cell_type": "code",
   "execution_count": 21,
   "metadata": {},
   "outputs": [],
   "source": [
    "# Calculate the number of students who passed reading per school\n",
    "passing_reading_per_school = passing_reading.groupby([\"School Name\"]).count()\n",
    "\n",
    "# Calculate the percentage of students who passed reading per school\n",
    "percentage_passing_reading_school = passing_reading_per_school[\"Student Reading Score\"]/student_per_school*100"
   ]
  },
  {
   "cell_type": "code",
   "execution_count": 22,
   "metadata": {},
   "outputs": [],
   "source": [
    "# Calculate the overall passing rate\n",
    "overall_passing_rate_school = (percentage_passing_math_school+percentage_passing_reading_school)/2"
   ]
  },
  {
   "cell_type": "code",
   "execution_count": 78,
   "metadata": {
    "scrolled": true
   },
   "outputs": [
    {
     "data": {
      "text/html": [
       "<div>\n",
       "<style scoped>\n",
       "    .dataframe tbody tr th:only-of-type {\n",
       "        vertical-align: middle;\n",
       "    }\n",
       "\n",
       "    .dataframe tbody tr th {\n",
       "        vertical-align: top;\n",
       "    }\n",
       "\n",
       "    .dataframe thead th {\n",
       "        text-align: right;\n",
       "    }\n",
       "</style>\n",
       "<table border=\"1\" class=\"dataframe\">\n",
       "  <thead>\n",
       "    <tr style=\"text-align: right;\">\n",
       "      <th></th>\n",
       "      <th>School Name</th>\n",
       "      <th>School Type</th>\n",
       "      <th>Total Students</th>\n",
       "      <th>Total School Budget</th>\n",
       "      <th>Per Student Budget</th>\n",
       "      <th>Average Math Score</th>\n",
       "      <th>Average Reading Score</th>\n",
       "      <th>Passing Math</th>\n",
       "      <th>Passing Reading</th>\n",
       "      <th>Overall Passing Rate</th>\n",
       "    </tr>\n",
       "  </thead>\n",
       "  <tbody>\n",
       "    <tr>\n",
       "      <th>0</th>\n",
       "      <td>Bailey High School</td>\n",
       "      <td>District</td>\n",
       "      <td>4,976</td>\n",
       "      <td>$3,124,928.00</td>\n",
       "      <td>$628.00</td>\n",
       "      <td>77.0</td>\n",
       "      <td>81.0</td>\n",
       "      <td>66.7%</td>\n",
       "      <td>81.9%</td>\n",
       "      <td>74.307%</td>\n",
       "    </tr>\n",
       "    <tr>\n",
       "      <th>1</th>\n",
       "      <td>Cabrera High School</td>\n",
       "      <td>Charter</td>\n",
       "      <td>1,858</td>\n",
       "      <td>$1,081,356.00</td>\n",
       "      <td>$582.00</td>\n",
       "      <td>83.1</td>\n",
       "      <td>84.0</td>\n",
       "      <td>94.1%</td>\n",
       "      <td>97.0%</td>\n",
       "      <td>95.587%</td>\n",
       "    </tr>\n",
       "    <tr>\n",
       "      <th>2</th>\n",
       "      <td>Figueroa High School</td>\n",
       "      <td>District</td>\n",
       "      <td>2,949</td>\n",
       "      <td>$1,884,411.00</td>\n",
       "      <td>$639.00</td>\n",
       "      <td>76.7</td>\n",
       "      <td>81.2</td>\n",
       "      <td>66.0%</td>\n",
       "      <td>80.7%</td>\n",
       "      <td>73.364%</td>\n",
       "    </tr>\n",
       "    <tr>\n",
       "      <th>3</th>\n",
       "      <td>Ford High School</td>\n",
       "      <td>District</td>\n",
       "      <td>2,739</td>\n",
       "      <td>$1,763,916.00</td>\n",
       "      <td>$644.00</td>\n",
       "      <td>77.1</td>\n",
       "      <td>80.7</td>\n",
       "      <td>68.3%</td>\n",
       "      <td>79.3%</td>\n",
       "      <td>73.804%</td>\n",
       "    </tr>\n",
       "    <tr>\n",
       "      <th>4</th>\n",
       "      <td>Griffin High School</td>\n",
       "      <td>Charter</td>\n",
       "      <td>1,468</td>\n",
       "      <td>$917,500.00</td>\n",
       "      <td>$625.00</td>\n",
       "      <td>83.4</td>\n",
       "      <td>83.8</td>\n",
       "      <td>93.4%</td>\n",
       "      <td>97.1%</td>\n",
       "      <td>95.266%</td>\n",
       "    </tr>\n",
       "    <tr>\n",
       "      <th>5</th>\n",
       "      <td>Hernandez High School</td>\n",
       "      <td>District</td>\n",
       "      <td>4,635</td>\n",
       "      <td>$3,022,020.00</td>\n",
       "      <td>$652.00</td>\n",
       "      <td>77.3</td>\n",
       "      <td>80.9</td>\n",
       "      <td>66.8%</td>\n",
       "      <td>80.9%</td>\n",
       "      <td>73.808%</td>\n",
       "    </tr>\n",
       "    <tr>\n",
       "      <th>6</th>\n",
       "      <td>Holden High School</td>\n",
       "      <td>Charter</td>\n",
       "      <td>427</td>\n",
       "      <td>$248,087.00</td>\n",
       "      <td>$581.00</td>\n",
       "      <td>83.8</td>\n",
       "      <td>83.8</td>\n",
       "      <td>92.5%</td>\n",
       "      <td>96.3%</td>\n",
       "      <td>94.379%</td>\n",
       "    </tr>\n",
       "    <tr>\n",
       "      <th>7</th>\n",
       "      <td>Huang High School</td>\n",
       "      <td>District</td>\n",
       "      <td>2,917</td>\n",
       "      <td>$1,910,635.00</td>\n",
       "      <td>$655.00</td>\n",
       "      <td>76.6</td>\n",
       "      <td>81.2</td>\n",
       "      <td>65.7%</td>\n",
       "      <td>81.3%</td>\n",
       "      <td>73.500%</td>\n",
       "    </tr>\n",
       "    <tr>\n",
       "      <th>8</th>\n",
       "      <td>Johnson High School</td>\n",
       "      <td>District</td>\n",
       "      <td>4,761</td>\n",
       "      <td>$3,094,650.00</td>\n",
       "      <td>$650.00</td>\n",
       "      <td>77.1</td>\n",
       "      <td>81.0</td>\n",
       "      <td>66.1%</td>\n",
       "      <td>81.2%</td>\n",
       "      <td>73.640%</td>\n",
       "    </tr>\n",
       "    <tr>\n",
       "      <th>9</th>\n",
       "      <td>Pena High School</td>\n",
       "      <td>Charter</td>\n",
       "      <td>962</td>\n",
       "      <td>$585,858.00</td>\n",
       "      <td>$609.00</td>\n",
       "      <td>83.8</td>\n",
       "      <td>84.0</td>\n",
       "      <td>94.6%</td>\n",
       "      <td>95.9%</td>\n",
       "      <td>95.270%</td>\n",
       "    </tr>\n",
       "    <tr>\n",
       "      <th>10</th>\n",
       "      <td>Rodriguez High School</td>\n",
       "      <td>District</td>\n",
       "      <td>3,999</td>\n",
       "      <td>$2,547,363.00</td>\n",
       "      <td>$637.00</td>\n",
       "      <td>76.8</td>\n",
       "      <td>80.7</td>\n",
       "      <td>66.4%</td>\n",
       "      <td>80.2%</td>\n",
       "      <td>73.293%</td>\n",
       "    </tr>\n",
       "    <tr>\n",
       "      <th>11</th>\n",
       "      <td>Shelton High School</td>\n",
       "      <td>Charter</td>\n",
       "      <td>1,761</td>\n",
       "      <td>$1,056,600.00</td>\n",
       "      <td>$600.00</td>\n",
       "      <td>83.4</td>\n",
       "      <td>83.7</td>\n",
       "      <td>93.9%</td>\n",
       "      <td>95.9%</td>\n",
       "      <td>94.861%</td>\n",
       "    </tr>\n",
       "    <tr>\n",
       "      <th>12</th>\n",
       "      <td>Thomas High School</td>\n",
       "      <td>Charter</td>\n",
       "      <td>1,635</td>\n",
       "      <td>$1,043,130.00</td>\n",
       "      <td>$638.00</td>\n",
       "      <td>83.4</td>\n",
       "      <td>83.8</td>\n",
       "      <td>93.3%</td>\n",
       "      <td>97.3%</td>\n",
       "      <td>95.291%</td>\n",
       "    </tr>\n",
       "    <tr>\n",
       "      <th>13</th>\n",
       "      <td>Wilson High School</td>\n",
       "      <td>Charter</td>\n",
       "      <td>2,283</td>\n",
       "      <td>$1,319,574.00</td>\n",
       "      <td>$578.00</td>\n",
       "      <td>83.3</td>\n",
       "      <td>84.0</td>\n",
       "      <td>93.9%</td>\n",
       "      <td>96.5%</td>\n",
       "      <td>95.204%</td>\n",
       "    </tr>\n",
       "    <tr>\n",
       "      <th>14</th>\n",
       "      <td>Wright High School</td>\n",
       "      <td>Charter</td>\n",
       "      <td>1,800</td>\n",
       "      <td>$1,049,400.00</td>\n",
       "      <td>$583.00</td>\n",
       "      <td>83.7</td>\n",
       "      <td>84.0</td>\n",
       "      <td>93.3%</td>\n",
       "      <td>96.6%</td>\n",
       "      <td>94.972%</td>\n",
       "    </tr>\n",
       "  </tbody>\n",
       "</table>\n",
       "</div>"
      ],
      "text/plain": [
       "              School Name School Type Total Students Total School Budget  \\\n",
       "0      Bailey High School    District          4,976       $3,124,928.00   \n",
       "1     Cabrera High School     Charter          1,858       $1,081,356.00   \n",
       "2    Figueroa High School    District          2,949       $1,884,411.00   \n",
       "3        Ford High School    District          2,739       $1,763,916.00   \n",
       "4     Griffin High School     Charter          1,468         $917,500.00   \n",
       "5   Hernandez High School    District          4,635       $3,022,020.00   \n",
       "6      Holden High School     Charter            427         $248,087.00   \n",
       "7       Huang High School    District          2,917       $1,910,635.00   \n",
       "8     Johnson High School    District          4,761       $3,094,650.00   \n",
       "9        Pena High School     Charter            962         $585,858.00   \n",
       "10  Rodriguez High School    District          3,999       $2,547,363.00   \n",
       "11    Shelton High School     Charter          1,761       $1,056,600.00   \n",
       "12     Thomas High School     Charter          1,635       $1,043,130.00   \n",
       "13     Wilson High School     Charter          2,283       $1,319,574.00   \n",
       "14     Wright High School     Charter          1,800       $1,049,400.00   \n",
       "\n",
       "   Per Student Budget Average Math Score Average Reading Score Passing Math  \\\n",
       "0             $628.00               77.0                  81.0        66.7%   \n",
       "1             $582.00               83.1                  84.0        94.1%   \n",
       "2             $639.00               76.7                  81.2        66.0%   \n",
       "3             $644.00               77.1                  80.7        68.3%   \n",
       "4             $625.00               83.4                  83.8        93.4%   \n",
       "5             $652.00               77.3                  80.9        66.8%   \n",
       "6             $581.00               83.8                  83.8        92.5%   \n",
       "7             $655.00               76.6                  81.2        65.7%   \n",
       "8             $650.00               77.1                  81.0        66.1%   \n",
       "9             $609.00               83.8                  84.0        94.6%   \n",
       "10            $637.00               76.8                  80.7        66.4%   \n",
       "11            $600.00               83.4                  83.7        93.9%   \n",
       "12            $638.00               83.4                  83.8        93.3%   \n",
       "13            $578.00               83.3                  84.0        93.9%   \n",
       "14            $583.00               83.7                  84.0        93.3%   \n",
       "\n",
       "   Passing Reading Overall Passing Rate  \n",
       "0            81.9%              74.307%  \n",
       "1            97.0%              95.587%  \n",
       "2            80.7%              73.364%  \n",
       "3            79.3%              73.804%  \n",
       "4            97.1%              95.266%  \n",
       "5            80.9%              73.808%  \n",
       "6            96.3%              94.379%  \n",
       "7            81.3%              73.500%  \n",
       "8            81.2%              73.640%  \n",
       "9            95.9%              95.270%  \n",
       "10           80.2%              73.293%  \n",
       "11           95.9%              94.861%  \n",
       "12           97.3%              95.291%  \n",
       "13           96.5%              95.204%  \n",
       "14           96.6%              94.972%  "
      ]
     },
     "execution_count": 78,
     "metadata": {},
     "output_type": "execute_result"
    }
   ],
   "source": [
    "# Set the variables to build the DataFrame\n",
    "school_summary_table_df = pd.DataFrame({\"School Type\": school_type, \"Total Students\": student_per_school,\n",
    "                                     \"Total School Budget\": total_school_budget,\n",
    "                                     \"Per Student Budget\": per_student_budget,\n",
    "                                    \"Average Math Score\": average_math_score_school,\n",
    "                                    \"Average Reading Score\": average_reading_score_school,\n",
    "                                    \"Passing Math\": percentage_passing_math_school,\n",
    "                                    \"Passing Reading\": percentage_passing_reading_school,\n",
    "                                    \"Overall Passing Rate\": overall_passing_rate_school})\n",
    "\n",
    "# Set the formatting\n",
    "school_summary_table_df[\"School Type\"]=school_summary_table_df[\"School Type\"].str.get(0)\n",
    "school_summary_table_df[\"Total Students\"]=school_summary_table_df[\"Total Students\"].map(\"{0:,.0f}\".format)\n",
    "school_summary_table_df[\"Total School Budget\"]=school_summary_table_df[\"Total School Budget\"].astype(float).map(\"${0:,.2f}\".format)\n",
    "school_summary_table_df[\"Per Student Budget\"]=school_summary_table_df[\"Per Student Budget\"].astype(float).map(\"${0:,.2f}\".format)\n",
    "school_summary_table_df[\"Average Math Score\"]=school_summary_table_df[\"Average Math Score\"].astype(float).map(\"{0:,.1f}\".format)\n",
    "school_summary_table_df[\"Average Reading Score\"]=school_summary_table_df[\"Average Reading Score\"].astype(float).map(\"{0:,.1f}\".format)\n",
    "school_summary_table_df[\"Passing Math\"]=school_summary_table_df[\"Passing Math\"].astype(float).map(\"{0:,.1f}%\".format)\n",
    "school_summary_table_df[\"Passing Reading\"]=school_summary_table_df[\"Passing Reading\"].astype(float).map(\"{0:,.1f}%\".format)\n",
    "school_summary_table_df[\"Overall Passing Rate\"]=school_summary_table_df[\"Overall Passing Rate\"].astype(float).map(\"{0:,.3f}%\".format)\n",
    "\n",
    "school_summary_table_df = school_summary_table_df.reset_index()\n",
    "school_summary_table_df"
   ]
  },
  {
   "cell_type": "markdown",
   "metadata": {},
   "source": [
    "## Top Performing Schools (By Passing Rate)"
   ]
  },
  {
   "cell_type": "code",
   "execution_count": 25,
   "metadata": {},
   "outputs": [
    {
     "data": {
      "text/html": [
       "<div>\n",
       "<style scoped>\n",
       "    .dataframe tbody tr th:only-of-type {\n",
       "        vertical-align: middle;\n",
       "    }\n",
       "\n",
       "    .dataframe tbody tr th {\n",
       "        vertical-align: top;\n",
       "    }\n",
       "\n",
       "    .dataframe thead th {\n",
       "        text-align: right;\n",
       "    }\n",
       "</style>\n",
       "<table border=\"1\" class=\"dataframe\">\n",
       "  <thead>\n",
       "    <tr style=\"text-align: right;\">\n",
       "      <th></th>\n",
       "      <th>School Name</th>\n",
       "      <th>School Type</th>\n",
       "      <th>Total Students</th>\n",
       "      <th>Total School Budget</th>\n",
       "      <th>Per Student Budget</th>\n",
       "      <th>Average Math Score</th>\n",
       "      <th>Average Reading Score</th>\n",
       "      <th>Passing Math</th>\n",
       "      <th>Passing Reading</th>\n",
       "      <th>Overall Passing Rate</th>\n",
       "    </tr>\n",
       "  </thead>\n",
       "  <tbody>\n",
       "    <tr>\n",
       "      <th>0</th>\n",
       "      <td>Cabrera High School</td>\n",
       "      <td>Charter</td>\n",
       "      <td>1,858</td>\n",
       "      <td>$1,081,356.00</td>\n",
       "      <td>$582.00</td>\n",
       "      <td>83.1</td>\n",
       "      <td>84.0</td>\n",
       "      <td>94.1%</td>\n",
       "      <td>97.0%</td>\n",
       "      <td>95.587%</td>\n",
       "    </tr>\n",
       "    <tr>\n",
       "      <th>1</th>\n",
       "      <td>Thomas High School</td>\n",
       "      <td>Charter</td>\n",
       "      <td>1,635</td>\n",
       "      <td>$1,043,130.00</td>\n",
       "      <td>$638.00</td>\n",
       "      <td>83.4</td>\n",
       "      <td>83.8</td>\n",
       "      <td>93.3%</td>\n",
       "      <td>97.3%</td>\n",
       "      <td>95.291%</td>\n",
       "    </tr>\n",
       "    <tr>\n",
       "      <th>2</th>\n",
       "      <td>Pena High School</td>\n",
       "      <td>Charter</td>\n",
       "      <td>962</td>\n",
       "      <td>$585,858.00</td>\n",
       "      <td>$609.00</td>\n",
       "      <td>83.8</td>\n",
       "      <td>84.0</td>\n",
       "      <td>94.6%</td>\n",
       "      <td>95.9%</td>\n",
       "      <td>95.270%</td>\n",
       "    </tr>\n",
       "    <tr>\n",
       "      <th>3</th>\n",
       "      <td>Griffin High School</td>\n",
       "      <td>Charter</td>\n",
       "      <td>1,468</td>\n",
       "      <td>$917,500.00</td>\n",
       "      <td>$625.00</td>\n",
       "      <td>83.4</td>\n",
       "      <td>83.8</td>\n",
       "      <td>93.4%</td>\n",
       "      <td>97.1%</td>\n",
       "      <td>95.266%</td>\n",
       "    </tr>\n",
       "    <tr>\n",
       "      <th>4</th>\n",
       "      <td>Wilson High School</td>\n",
       "      <td>Charter</td>\n",
       "      <td>2,283</td>\n",
       "      <td>$1,319,574.00</td>\n",
       "      <td>$578.00</td>\n",
       "      <td>83.3</td>\n",
       "      <td>84.0</td>\n",
       "      <td>93.9%</td>\n",
       "      <td>96.5%</td>\n",
       "      <td>95.204%</td>\n",
       "    </tr>\n",
       "  </tbody>\n",
       "</table>\n",
       "</div>"
      ],
      "text/plain": [
       "           School Name School Type Total Students Total School Budget  \\\n",
       "0  Cabrera High School     Charter          1,858       $1,081,356.00   \n",
       "1   Thomas High School     Charter          1,635       $1,043,130.00   \n",
       "2     Pena High School     Charter            962         $585,858.00   \n",
       "3  Griffin High School     Charter          1,468         $917,500.00   \n",
       "4   Wilson High School     Charter          2,283       $1,319,574.00   \n",
       "\n",
       "  Per Student Budget Average Math Score Average Reading Score Passing Math  \\\n",
       "0            $582.00               83.1                  84.0        94.1%   \n",
       "1            $638.00               83.4                  83.8        93.3%   \n",
       "2            $609.00               83.8                  84.0        94.6%   \n",
       "3            $625.00               83.4                  83.8        93.4%   \n",
       "4            $578.00               83.3                  84.0        93.9%   \n",
       "\n",
       "  Passing Reading Overall Passing Rate  \n",
       "0           97.0%              95.587%  \n",
       "1           97.3%              95.291%  \n",
       "2           95.9%              95.270%  \n",
       "3           97.1%              95.266%  \n",
       "4           96.5%              95.204%  "
      ]
     },
     "execution_count": 25,
     "metadata": {},
     "output_type": "execute_result"
    }
   ],
   "source": [
    "# Sort the values by overall passing rate to display the five best schools\n",
    "top_perform_table = school_summary_table_df.sort_values(\n",
    "    [\"Overall Passing Rate\"], ascending=False)\n",
    "top_perform_table = top_perform_table.reset_index()\n",
    "top_perform_table = top_perform_table.iloc[0:5,1:12]\n",
    "top_perform_table"
   ]
  },
  {
   "cell_type": "markdown",
   "metadata": {},
   "source": [
    "All schools in the top five are \"Charter\" schools. Student grades results are very close in math and reading so they have an overall passing rate close as well (between 95% and 96%). However, the budget per student in each of these schools is different (from 578 USD to 638 USD)"
   ]
  },
  {
   "cell_type": "markdown",
   "metadata": {},
   "source": [
    "## Bottom Performing Schools (By Passing Rate)"
   ]
  },
  {
   "cell_type": "code",
   "execution_count": 26,
   "metadata": {},
   "outputs": [
    {
     "data": {
      "text/html": [
       "<div>\n",
       "<style scoped>\n",
       "    .dataframe tbody tr th:only-of-type {\n",
       "        vertical-align: middle;\n",
       "    }\n",
       "\n",
       "    .dataframe tbody tr th {\n",
       "        vertical-align: top;\n",
       "    }\n",
       "\n",
       "    .dataframe thead th {\n",
       "        text-align: right;\n",
       "    }\n",
       "</style>\n",
       "<table border=\"1\" class=\"dataframe\">\n",
       "  <thead>\n",
       "    <tr style=\"text-align: right;\">\n",
       "      <th></th>\n",
       "      <th>School Name</th>\n",
       "      <th>School Type</th>\n",
       "      <th>Total Students</th>\n",
       "      <th>Total School Budget</th>\n",
       "      <th>Per Student Budget</th>\n",
       "      <th>Average Math Score</th>\n",
       "      <th>Average Reading Score</th>\n",
       "      <th>Passing Math</th>\n",
       "      <th>Passing Reading</th>\n",
       "      <th>Overall Passing Rate</th>\n",
       "    </tr>\n",
       "  </thead>\n",
       "  <tbody>\n",
       "    <tr>\n",
       "      <th>0</th>\n",
       "      <td>Rodriguez High School</td>\n",
       "      <td>District</td>\n",
       "      <td>3,999</td>\n",
       "      <td>$2,547,363.00</td>\n",
       "      <td>$637.00</td>\n",
       "      <td>76.8</td>\n",
       "      <td>80.7</td>\n",
       "      <td>66.4%</td>\n",
       "      <td>80.2%</td>\n",
       "      <td>73.293%</td>\n",
       "    </tr>\n",
       "    <tr>\n",
       "      <th>1</th>\n",
       "      <td>Figueroa High School</td>\n",
       "      <td>District</td>\n",
       "      <td>2,949</td>\n",
       "      <td>$1,884,411.00</td>\n",
       "      <td>$639.00</td>\n",
       "      <td>76.7</td>\n",
       "      <td>81.2</td>\n",
       "      <td>66.0%</td>\n",
       "      <td>80.7%</td>\n",
       "      <td>73.364%</td>\n",
       "    </tr>\n",
       "    <tr>\n",
       "      <th>2</th>\n",
       "      <td>Huang High School</td>\n",
       "      <td>District</td>\n",
       "      <td>2,917</td>\n",
       "      <td>$1,910,635.00</td>\n",
       "      <td>$655.00</td>\n",
       "      <td>76.6</td>\n",
       "      <td>81.2</td>\n",
       "      <td>65.7%</td>\n",
       "      <td>81.3%</td>\n",
       "      <td>73.500%</td>\n",
       "    </tr>\n",
       "    <tr>\n",
       "      <th>3</th>\n",
       "      <td>Johnson High School</td>\n",
       "      <td>District</td>\n",
       "      <td>4,761</td>\n",
       "      <td>$3,094,650.00</td>\n",
       "      <td>$650.00</td>\n",
       "      <td>77.1</td>\n",
       "      <td>81.0</td>\n",
       "      <td>66.1%</td>\n",
       "      <td>81.2%</td>\n",
       "      <td>73.640%</td>\n",
       "    </tr>\n",
       "    <tr>\n",
       "      <th>4</th>\n",
       "      <td>Ford High School</td>\n",
       "      <td>District</td>\n",
       "      <td>2,739</td>\n",
       "      <td>$1,763,916.00</td>\n",
       "      <td>$644.00</td>\n",
       "      <td>77.1</td>\n",
       "      <td>80.7</td>\n",
       "      <td>68.3%</td>\n",
       "      <td>79.3%</td>\n",
       "      <td>73.804%</td>\n",
       "    </tr>\n",
       "  </tbody>\n",
       "</table>\n",
       "</div>"
      ],
      "text/plain": [
       "             School Name School Type Total Students Total School Budget  \\\n",
       "0  Rodriguez High School    District          3,999       $2,547,363.00   \n",
       "1   Figueroa High School    District          2,949       $1,884,411.00   \n",
       "2      Huang High School    District          2,917       $1,910,635.00   \n",
       "3    Johnson High School    District          4,761       $3,094,650.00   \n",
       "4       Ford High School    District          2,739       $1,763,916.00   \n",
       "\n",
       "  Per Student Budget Average Math Score Average Reading Score Passing Math  \\\n",
       "0            $637.00               76.8                  80.7        66.4%   \n",
       "1            $639.00               76.7                  81.2        66.0%   \n",
       "2            $655.00               76.6                  81.2        65.7%   \n",
       "3            $650.00               77.1                  81.0        66.1%   \n",
       "4            $644.00               77.1                  80.7        68.3%   \n",
       "\n",
       "  Passing Reading Overall Passing Rate  \n",
       "0           80.2%              73.293%  \n",
       "1           80.7%              73.364%  \n",
       "2           81.3%              73.500%  \n",
       "3           81.2%              73.640%  \n",
       "4           79.3%              73.804%  "
      ]
     },
     "execution_count": 26,
     "metadata": {},
     "output_type": "execute_result"
    }
   ],
   "source": [
    "# Sort the values by overall passing rate to display the five worst schools\n",
    "bottom_perform_table = school_summary_table_df.sort_values(\n",
    "    [\"Overall Passing Rate\"], ascending=True)\n",
    "bottom_perform_table = bottom_perform_table.reset_index()\n",
    "bottom_perform_table = bottom_perform_table.iloc[0:5,1:12]\n",
    "bottom_perform_table"
   ]
  },
  {
   "cell_type": "markdown",
   "metadata": {},
   "source": [
    "All schools in the bottom of permorming schools are \"District\" schools. Student scores results are very close in math (around 77 vs 83 for charter schools) and reading (around 81 vs 84 for charter schools). They have an overall passing rate close (between 73% and 74%) but far removed from charter schools (around 95%). So, they have an overall passing rate lower of 20% compare to the charter schools. This difference could be explain with the differences in passing math. \n",
    "\n",
    "The budget per student in each of these schools is higher than in the charter schools (from 637 USD to 655 USD).\n",
    "\n",
    "The total students in these schools is also higher (from 2,739 to 4,761 students vs 962 to 2,283 for charter schools)\n",
    "\n"
   ]
  },
  {
   "cell_type": "markdown",
   "metadata": {
    "collapsed": true
   },
   "source": [
    "## Math Scores by Grade"
   ]
  },
  {
   "cell_type": "markdown",
   "metadata": {},
   "source": [
    "* Create a table that lists the average Reading Score for students of each grade level (9th, 10th, 11th, 12th) at each school.\n",
    "\n",
    "  * Create a pandas series for each grade. Hint: use a conditional statement.\n",
    "  \n",
    "  * Group each series by school\n",
    "  \n",
    "  * Combine the series into a dataframe\n",
    "  \n",
    "  * Optional: give the displayed data cleaner formatting"
   ]
  },
  {
   "cell_type": "code",
   "execution_count": 27,
   "metadata": {},
   "outputs": [],
   "source": [
    "# Make a new table with only the values we are interested about\n",
    "grade_table = pycity_df[[\"School Name\", \"Student Grade\", \"Student Math Score\"]]"
   ]
  },
  {
   "cell_type": "code",
   "execution_count": 28,
   "metadata": {},
   "outputs": [],
   "source": [
    "# Create tables for each grade\n",
    "nine = grade_table.loc[grade_table[\"Student Grade\"] == \"9th\"]\n",
    "ten = grade_table.loc[grade_table[\"Student Grade\"] == \"10th\"]\n",
    "eleven = grade_table.loc[grade_table[\"Student Grade\"] == \"11th\"]\n",
    "twelve = grade_table.loc[grade_table[\"Student Grade\"] == \"12th\"]"
   ]
  },
  {
   "cell_type": "code",
   "execution_count": 29,
   "metadata": {},
   "outputs": [],
   "source": [
    "# Group each table by the school name\n",
    "group_nine = nine.groupby([\"School Name\"])\n",
    "group_ten = ten.groupby([\"School Name\"])\n",
    "group_eleven = eleven.groupby([\"School Name\"])\n",
    "group_twelve = twelve.groupby([\"School Name\"])"
   ]
  },
  {
   "cell_type": "code",
   "execution_count": 30,
   "metadata": {},
   "outputs": [],
   "source": [
    "# Calculate the average of math score\n",
    "math_group_nine = group_nine[\"Student Math Score\"].mean()\n",
    "math_group_ten = group_ten[\"Student Math Score\"].mean()\n",
    "math_group_eleven = group_eleven[\"Student Math Score\"].mean()\n",
    "math_group_twelve = group_twelve[\"Student Math Score\"].mean()"
   ]
  },
  {
   "cell_type": "code",
   "execution_count": 31,
   "metadata": {},
   "outputs": [
    {
     "data": {
      "text/html": [
       "<style  type=\"text/css\" >\n",
       "</style><table id=\"T_2d06b690_bbc0_11e9_ae72_f40f2408072a\" ><thead>    <tr>        <th class=\"blank level0\" ></th>        <th class=\"col_heading level0 col0\" >9th</th>        <th class=\"col_heading level0 col1\" >10th</th>        <th class=\"col_heading level0 col2\" >11th</th>        <th class=\"col_heading level0 col3\" >12th</th>    </tr>    <tr>        <th class=\"index_name level0\" >School Name</th>        <th class=\"blank\" ></th>        <th class=\"blank\" ></th>        <th class=\"blank\" ></th>        <th class=\"blank\" ></th>    </tr></thead><tbody>\n",
       "                <tr>\n",
       "                        <th id=\"T_2d06b690_bbc0_11e9_ae72_f40f2408072alevel0_row0\" class=\"row_heading level0 row0\" >Bailey High School</th>\n",
       "                        <td id=\"T_2d06b690_bbc0_11e9_ae72_f40f2408072arow0_col0\" class=\"data row0 col0\" >77.1</td>\n",
       "                        <td id=\"T_2d06b690_bbc0_11e9_ae72_f40f2408072arow0_col1\" class=\"data row0 col1\" >77.0</td>\n",
       "                        <td id=\"T_2d06b690_bbc0_11e9_ae72_f40f2408072arow0_col2\" class=\"data row0 col2\" >77.5</td>\n",
       "                        <td id=\"T_2d06b690_bbc0_11e9_ae72_f40f2408072arow0_col3\" class=\"data row0 col3\" >76.5</td>\n",
       "            </tr>\n",
       "            <tr>\n",
       "                        <th id=\"T_2d06b690_bbc0_11e9_ae72_f40f2408072alevel0_row1\" class=\"row_heading level0 row1\" >Cabrera High School</th>\n",
       "                        <td id=\"T_2d06b690_bbc0_11e9_ae72_f40f2408072arow1_col0\" class=\"data row1 col0\" >83.1</td>\n",
       "                        <td id=\"T_2d06b690_bbc0_11e9_ae72_f40f2408072arow1_col1\" class=\"data row1 col1\" >83.2</td>\n",
       "                        <td id=\"T_2d06b690_bbc0_11e9_ae72_f40f2408072arow1_col2\" class=\"data row1 col2\" >82.8</td>\n",
       "                        <td id=\"T_2d06b690_bbc0_11e9_ae72_f40f2408072arow1_col3\" class=\"data row1 col3\" >83.3</td>\n",
       "            </tr>\n",
       "            <tr>\n",
       "                        <th id=\"T_2d06b690_bbc0_11e9_ae72_f40f2408072alevel0_row2\" class=\"row_heading level0 row2\" >Figueroa High School</th>\n",
       "                        <td id=\"T_2d06b690_bbc0_11e9_ae72_f40f2408072arow2_col0\" class=\"data row2 col0\" >76.4</td>\n",
       "                        <td id=\"T_2d06b690_bbc0_11e9_ae72_f40f2408072arow2_col1\" class=\"data row2 col1\" >76.5</td>\n",
       "                        <td id=\"T_2d06b690_bbc0_11e9_ae72_f40f2408072arow2_col2\" class=\"data row2 col2\" >76.9</td>\n",
       "                        <td id=\"T_2d06b690_bbc0_11e9_ae72_f40f2408072arow2_col3\" class=\"data row2 col3\" >77.2</td>\n",
       "            </tr>\n",
       "            <tr>\n",
       "                        <th id=\"T_2d06b690_bbc0_11e9_ae72_f40f2408072alevel0_row3\" class=\"row_heading level0 row3\" >Ford High School</th>\n",
       "                        <td id=\"T_2d06b690_bbc0_11e9_ae72_f40f2408072arow3_col0\" class=\"data row3 col0\" >77.4</td>\n",
       "                        <td id=\"T_2d06b690_bbc0_11e9_ae72_f40f2408072arow3_col1\" class=\"data row3 col1\" >77.7</td>\n",
       "                        <td id=\"T_2d06b690_bbc0_11e9_ae72_f40f2408072arow3_col2\" class=\"data row3 col2\" >76.9</td>\n",
       "                        <td id=\"T_2d06b690_bbc0_11e9_ae72_f40f2408072arow3_col3\" class=\"data row3 col3\" >76.2</td>\n",
       "            </tr>\n",
       "            <tr>\n",
       "                        <th id=\"T_2d06b690_bbc0_11e9_ae72_f40f2408072alevel0_row4\" class=\"row_heading level0 row4\" >Griffin High School</th>\n",
       "                        <td id=\"T_2d06b690_bbc0_11e9_ae72_f40f2408072arow4_col0\" class=\"data row4 col0\" >82.0</td>\n",
       "                        <td id=\"T_2d06b690_bbc0_11e9_ae72_f40f2408072arow4_col1\" class=\"data row4 col1\" >84.2</td>\n",
       "                        <td id=\"T_2d06b690_bbc0_11e9_ae72_f40f2408072arow4_col2\" class=\"data row4 col2\" >83.8</td>\n",
       "                        <td id=\"T_2d06b690_bbc0_11e9_ae72_f40f2408072arow4_col3\" class=\"data row4 col3\" >83.4</td>\n",
       "            </tr>\n",
       "            <tr>\n",
       "                        <th id=\"T_2d06b690_bbc0_11e9_ae72_f40f2408072alevel0_row5\" class=\"row_heading level0 row5\" >Hernandez High School</th>\n",
       "                        <td id=\"T_2d06b690_bbc0_11e9_ae72_f40f2408072arow5_col0\" class=\"data row5 col0\" >77.4</td>\n",
       "                        <td id=\"T_2d06b690_bbc0_11e9_ae72_f40f2408072arow5_col1\" class=\"data row5 col1\" >77.3</td>\n",
       "                        <td id=\"T_2d06b690_bbc0_11e9_ae72_f40f2408072arow5_col2\" class=\"data row5 col2\" >77.1</td>\n",
       "                        <td id=\"T_2d06b690_bbc0_11e9_ae72_f40f2408072arow5_col3\" class=\"data row5 col3\" >77.2</td>\n",
       "            </tr>\n",
       "            <tr>\n",
       "                        <th id=\"T_2d06b690_bbc0_11e9_ae72_f40f2408072alevel0_row6\" class=\"row_heading level0 row6\" >Holden High School</th>\n",
       "                        <td id=\"T_2d06b690_bbc0_11e9_ae72_f40f2408072arow6_col0\" class=\"data row6 col0\" >83.8</td>\n",
       "                        <td id=\"T_2d06b690_bbc0_11e9_ae72_f40f2408072arow6_col1\" class=\"data row6 col1\" >83.4</td>\n",
       "                        <td id=\"T_2d06b690_bbc0_11e9_ae72_f40f2408072arow6_col2\" class=\"data row6 col2\" >85.0</td>\n",
       "                        <td id=\"T_2d06b690_bbc0_11e9_ae72_f40f2408072arow6_col3\" class=\"data row6 col3\" >82.9</td>\n",
       "            </tr>\n",
       "            <tr>\n",
       "                        <th id=\"T_2d06b690_bbc0_11e9_ae72_f40f2408072alevel0_row7\" class=\"row_heading level0 row7\" >Huang High School</th>\n",
       "                        <td id=\"T_2d06b690_bbc0_11e9_ae72_f40f2408072arow7_col0\" class=\"data row7 col0\" >77.0</td>\n",
       "                        <td id=\"T_2d06b690_bbc0_11e9_ae72_f40f2408072arow7_col1\" class=\"data row7 col1\" >75.9</td>\n",
       "                        <td id=\"T_2d06b690_bbc0_11e9_ae72_f40f2408072arow7_col2\" class=\"data row7 col2\" >76.4</td>\n",
       "                        <td id=\"T_2d06b690_bbc0_11e9_ae72_f40f2408072arow7_col3\" class=\"data row7 col3\" >77.2</td>\n",
       "            </tr>\n",
       "            <tr>\n",
       "                        <th id=\"T_2d06b690_bbc0_11e9_ae72_f40f2408072alevel0_row8\" class=\"row_heading level0 row8\" >Johnson High School</th>\n",
       "                        <td id=\"T_2d06b690_bbc0_11e9_ae72_f40f2408072arow8_col0\" class=\"data row8 col0\" >77.2</td>\n",
       "                        <td id=\"T_2d06b690_bbc0_11e9_ae72_f40f2408072arow8_col1\" class=\"data row8 col1\" >76.7</td>\n",
       "                        <td id=\"T_2d06b690_bbc0_11e9_ae72_f40f2408072arow8_col2\" class=\"data row8 col2\" >77.5</td>\n",
       "                        <td id=\"T_2d06b690_bbc0_11e9_ae72_f40f2408072arow8_col3\" class=\"data row8 col3\" >76.9</td>\n",
       "            </tr>\n",
       "            <tr>\n",
       "                        <th id=\"T_2d06b690_bbc0_11e9_ae72_f40f2408072alevel0_row9\" class=\"row_heading level0 row9\" >Pena High School</th>\n",
       "                        <td id=\"T_2d06b690_bbc0_11e9_ae72_f40f2408072arow9_col0\" class=\"data row9 col0\" >83.6</td>\n",
       "                        <td id=\"T_2d06b690_bbc0_11e9_ae72_f40f2408072arow9_col1\" class=\"data row9 col1\" >83.4</td>\n",
       "                        <td id=\"T_2d06b690_bbc0_11e9_ae72_f40f2408072arow9_col2\" class=\"data row9 col2\" >84.3</td>\n",
       "                        <td id=\"T_2d06b690_bbc0_11e9_ae72_f40f2408072arow9_col3\" class=\"data row9 col3\" >84.1</td>\n",
       "            </tr>\n",
       "            <tr>\n",
       "                        <th id=\"T_2d06b690_bbc0_11e9_ae72_f40f2408072alevel0_row10\" class=\"row_heading level0 row10\" >Rodriguez High School</th>\n",
       "                        <td id=\"T_2d06b690_bbc0_11e9_ae72_f40f2408072arow10_col0\" class=\"data row10 col0\" >76.9</td>\n",
       "                        <td id=\"T_2d06b690_bbc0_11e9_ae72_f40f2408072arow10_col1\" class=\"data row10 col1\" >76.6</td>\n",
       "                        <td id=\"T_2d06b690_bbc0_11e9_ae72_f40f2408072arow10_col2\" class=\"data row10 col2\" >76.4</td>\n",
       "                        <td id=\"T_2d06b690_bbc0_11e9_ae72_f40f2408072arow10_col3\" class=\"data row10 col3\" >77.7</td>\n",
       "            </tr>\n",
       "            <tr>\n",
       "                        <th id=\"T_2d06b690_bbc0_11e9_ae72_f40f2408072alevel0_row11\" class=\"row_heading level0 row11\" >Shelton High School</th>\n",
       "                        <td id=\"T_2d06b690_bbc0_11e9_ae72_f40f2408072arow11_col0\" class=\"data row11 col0\" >83.4</td>\n",
       "                        <td id=\"T_2d06b690_bbc0_11e9_ae72_f40f2408072arow11_col1\" class=\"data row11 col1\" >82.9</td>\n",
       "                        <td id=\"T_2d06b690_bbc0_11e9_ae72_f40f2408072arow11_col2\" class=\"data row11 col2\" >83.4</td>\n",
       "                        <td id=\"T_2d06b690_bbc0_11e9_ae72_f40f2408072arow11_col3\" class=\"data row11 col3\" >83.8</td>\n",
       "            </tr>\n",
       "            <tr>\n",
       "                        <th id=\"T_2d06b690_bbc0_11e9_ae72_f40f2408072alevel0_row12\" class=\"row_heading level0 row12\" >Thomas High School</th>\n",
       "                        <td id=\"T_2d06b690_bbc0_11e9_ae72_f40f2408072arow12_col0\" class=\"data row12 col0\" >83.6</td>\n",
       "                        <td id=\"T_2d06b690_bbc0_11e9_ae72_f40f2408072arow12_col1\" class=\"data row12 col1\" >83.1</td>\n",
       "                        <td id=\"T_2d06b690_bbc0_11e9_ae72_f40f2408072arow12_col2\" class=\"data row12 col2\" >83.5</td>\n",
       "                        <td id=\"T_2d06b690_bbc0_11e9_ae72_f40f2408072arow12_col3\" class=\"data row12 col3\" >83.5</td>\n",
       "            </tr>\n",
       "            <tr>\n",
       "                        <th id=\"T_2d06b690_bbc0_11e9_ae72_f40f2408072alevel0_row13\" class=\"row_heading level0 row13\" >Wilson High School</th>\n",
       "                        <td id=\"T_2d06b690_bbc0_11e9_ae72_f40f2408072arow13_col0\" class=\"data row13 col0\" >83.1</td>\n",
       "                        <td id=\"T_2d06b690_bbc0_11e9_ae72_f40f2408072arow13_col1\" class=\"data row13 col1\" >83.7</td>\n",
       "                        <td id=\"T_2d06b690_bbc0_11e9_ae72_f40f2408072arow13_col2\" class=\"data row13 col2\" >83.2</td>\n",
       "                        <td id=\"T_2d06b690_bbc0_11e9_ae72_f40f2408072arow13_col3\" class=\"data row13 col3\" >83.0</td>\n",
       "            </tr>\n",
       "            <tr>\n",
       "                        <th id=\"T_2d06b690_bbc0_11e9_ae72_f40f2408072alevel0_row14\" class=\"row_heading level0 row14\" >Wright High School</th>\n",
       "                        <td id=\"T_2d06b690_bbc0_11e9_ae72_f40f2408072arow14_col0\" class=\"data row14 col0\" >83.3</td>\n",
       "                        <td id=\"T_2d06b690_bbc0_11e9_ae72_f40f2408072arow14_col1\" class=\"data row14 col1\" >84.0</td>\n",
       "                        <td id=\"T_2d06b690_bbc0_11e9_ae72_f40f2408072arow14_col2\" class=\"data row14 col2\" >83.8</td>\n",
       "                        <td id=\"T_2d06b690_bbc0_11e9_ae72_f40f2408072arow14_col3\" class=\"data row14 col3\" >83.6</td>\n",
       "            </tr>\n",
       "    </tbody></table>"
      ],
      "text/plain": [
       "<pandas.io.formats.style.Styler at 0x1149e0748>"
      ]
     },
     "execution_count": 31,
     "metadata": {},
     "output_type": "execute_result"
    }
   ],
   "source": [
    "# Make the DataFrame with the values\n",
    "math_score_grade = pd.DataFrame({\"9th\": math_group_nine,\n",
    "                                \"10th\": math_group_ten,\n",
    "                                \"11th\": math_group_eleven,\n",
    "                                \"12th\": math_group_twelve})\n",
    "\n",
    "\n",
    "format_dic = {\"9th\":\"{0:,.1f}\", \"10th\": \"{0:,.1f}\", \"11th\": \"{0:,.1f}\",\n",
    "               \"12th\":\"{0:,.1f}\"}\n",
    "math_score_grade = math_score_grade.style.format(format_dic)\n",
    "math_score_grade"
   ]
  },
  {
   "cell_type": "markdown",
   "metadata": {},
   "source": [
    "###### The results are very similar for the same school with different grades. No effect of grade on math results.\n",
    "\n",
    "___________________________________________________________________________________________________"
   ]
  },
  {
   "cell_type": "markdown",
   "metadata": {},
   "source": [
    "## Reading Score by Grade "
   ]
  },
  {
   "cell_type": "code",
   "execution_count": 32,
   "metadata": {},
   "outputs": [
    {
     "data": {
      "text/html": [
       "<div>\n",
       "<style scoped>\n",
       "    .dataframe tbody tr th:only-of-type {\n",
       "        vertical-align: middle;\n",
       "    }\n",
       "\n",
       "    .dataframe tbody tr th {\n",
       "        vertical-align: top;\n",
       "    }\n",
       "\n",
       "    .dataframe thead th {\n",
       "        text-align: right;\n",
       "    }\n",
       "</style>\n",
       "<table border=\"1\" class=\"dataframe\">\n",
       "  <thead>\n",
       "    <tr style=\"text-align: right;\">\n",
       "      <th>Student Grade</th>\n",
       "      <th>9th</th>\n",
       "      <th>10th</th>\n",
       "      <th>11th</th>\n",
       "      <th>12th</th>\n",
       "    </tr>\n",
       "    <tr>\n",
       "      <th>School Name</th>\n",
       "      <th></th>\n",
       "      <th></th>\n",
       "      <th></th>\n",
       "      <th></th>\n",
       "    </tr>\n",
       "  </thead>\n",
       "  <tbody>\n",
       "    <tr>\n",
       "      <th>Bailey High School</th>\n",
       "      <td>81.3</td>\n",
       "      <td>80.9</td>\n",
       "      <td>80.9</td>\n",
       "      <td>80.9</td>\n",
       "    </tr>\n",
       "    <tr>\n",
       "      <th>Cabrera High School</th>\n",
       "      <td>83.7</td>\n",
       "      <td>84.3</td>\n",
       "      <td>83.8</td>\n",
       "      <td>84.3</td>\n",
       "    </tr>\n",
       "    <tr>\n",
       "      <th>Figueroa High School</th>\n",
       "      <td>81.2</td>\n",
       "      <td>81.4</td>\n",
       "      <td>80.6</td>\n",
       "      <td>81.4</td>\n",
       "    </tr>\n",
       "    <tr>\n",
       "      <th>Ford High School</th>\n",
       "      <td>80.6</td>\n",
       "      <td>81.3</td>\n",
       "      <td>80.4</td>\n",
       "      <td>80.7</td>\n",
       "    </tr>\n",
       "    <tr>\n",
       "      <th>Griffin High School</th>\n",
       "      <td>83.4</td>\n",
       "      <td>83.7</td>\n",
       "      <td>84.3</td>\n",
       "      <td>84.0</td>\n",
       "    </tr>\n",
       "    <tr>\n",
       "      <th>Hernandez High School</th>\n",
       "      <td>80.9</td>\n",
       "      <td>80.7</td>\n",
       "      <td>81.4</td>\n",
       "      <td>80.9</td>\n",
       "    </tr>\n",
       "    <tr>\n",
       "      <th>Holden High School</th>\n",
       "      <td>83.7</td>\n",
       "      <td>83.3</td>\n",
       "      <td>83.8</td>\n",
       "      <td>84.7</td>\n",
       "    </tr>\n",
       "    <tr>\n",
       "      <th>Huang High School</th>\n",
       "      <td>81.3</td>\n",
       "      <td>81.5</td>\n",
       "      <td>81.4</td>\n",
       "      <td>80.3</td>\n",
       "    </tr>\n",
       "    <tr>\n",
       "      <th>Johnson High School</th>\n",
       "      <td>81.3</td>\n",
       "      <td>80.8</td>\n",
       "      <td>80.6</td>\n",
       "      <td>81.2</td>\n",
       "    </tr>\n",
       "    <tr>\n",
       "      <th>Pena High School</th>\n",
       "      <td>83.8</td>\n",
       "      <td>83.6</td>\n",
       "      <td>84.3</td>\n",
       "      <td>84.6</td>\n",
       "    </tr>\n",
       "    <tr>\n",
       "      <th>Rodriguez High School</th>\n",
       "      <td>81.0</td>\n",
       "      <td>80.6</td>\n",
       "      <td>80.9</td>\n",
       "      <td>80.4</td>\n",
       "    </tr>\n",
       "    <tr>\n",
       "      <th>Shelton High School</th>\n",
       "      <td>84.1</td>\n",
       "      <td>83.4</td>\n",
       "      <td>84.4</td>\n",
       "      <td>82.8</td>\n",
       "    </tr>\n",
       "    <tr>\n",
       "      <th>Thomas High School</th>\n",
       "      <td>83.7</td>\n",
       "      <td>84.3</td>\n",
       "      <td>83.6</td>\n",
       "      <td>83.8</td>\n",
       "    </tr>\n",
       "    <tr>\n",
       "      <th>Wilson High School</th>\n",
       "      <td>83.9</td>\n",
       "      <td>84.0</td>\n",
       "      <td>83.8</td>\n",
       "      <td>84.3</td>\n",
       "    </tr>\n",
       "    <tr>\n",
       "      <th>Wright High School</th>\n",
       "      <td>83.8</td>\n",
       "      <td>83.8</td>\n",
       "      <td>84.2</td>\n",
       "      <td>84.1</td>\n",
       "    </tr>\n",
       "  </tbody>\n",
       "</table>\n",
       "</div>"
      ],
      "text/plain": [
       "Student Grade           9th  10th  11th  12th\n",
       "School Name                                  \n",
       "Bailey High School     81.3  80.9  80.9  80.9\n",
       "Cabrera High School    83.7  84.3  83.8  84.3\n",
       "Figueroa High School   81.2  81.4  80.6  81.4\n",
       "Ford High School       80.6  81.3  80.4  80.7\n",
       "Griffin High School    83.4  83.7  84.3  84.0\n",
       "Hernandez High School  80.9  80.7  81.4  80.9\n",
       "Holden High School     83.7  83.3  83.8  84.7\n",
       "Huang High School      81.3  81.5  81.4  80.3\n",
       "Johnson High School    81.3  80.8  80.6  81.2\n",
       "Pena High School       83.8  83.6  84.3  84.6\n",
       "Rodriguez High School  81.0  80.6  80.9  80.4\n",
       "Shelton High School    84.1  83.4  84.4  82.8\n",
       "Thomas High School     83.7  84.3  83.6  83.8\n",
       "Wilson High School     83.9  84.0  83.8  84.3\n",
       "Wright High School     83.8  83.8  84.2  84.1"
      ]
     },
     "execution_count": 32,
     "metadata": {},
     "output_type": "execute_result"
    }
   ],
   "source": [
    "# using a pivot table to perform the same operations as above for reading scores\n",
    "grade_reading_pivot = pycity_df.pivot_table(values=\"Student Reading Score\",\n",
    "                                   index=\"School Name\", columns=\"Student Grade\",\n",
    "                                   aggfunc=np.mean)\n",
    "grade_reading_pivot = np.round(grade_reading_pivot, 1)\n",
    "grade_reading_pivot = grade_reading_pivot.reindex(['9th','10th', '11th','12th'], axis=1)\n",
    "grade_reading_pivot"
   ]
  },
  {
   "cell_type": "markdown",
   "metadata": {},
   "source": [
    "##### The results are very similar for the same school with different grades. No effect of grade on reading results.\n",
    "\n",
    " _________________________________________________________________________________________________"
   ]
  },
  {
   "cell_type": "markdown",
   "metadata": {},
   "source": [
    "## Scores by School Spending"
   ]
  },
  {
   "cell_type": "markdown",
   "metadata": {},
   "source": [
    "* Create a table that breaks down school performances based on average Spending Ranges (Per Student). Use 4 reasonable bins to group school spending. Include in the table each of the following:\n",
    "  * Average Math Score\n",
    "  * Average Reading Score\n",
    "  * % Passing Math\n",
    "  * % Passing Reading\n",
    "  * Overall Passing Rate (Average of the above two)"
   ]
  },
  {
   "cell_type": "code",
   "execution_count": 33,
   "metadata": {},
   "outputs": [],
   "source": [
    "# Calculate the budget per student\n",
    "per_student_budget_bin = pycity_df[\"School Budget\"]/pycity_df[\"School Size\"]\n",
    "\n",
    "# Create a new column for the budget per student\n",
    "pycity_df[\"Per Student Budget\"] = per_student_budget_bin"
   ]
  },
  {
   "cell_type": "code",
   "execution_count": 34,
   "metadata": {},
   "outputs": [],
   "source": [
    "# Sample bins. Feel free to create your own bins.\n",
    "spending_bins = [0, 626, 638, 650, 675]\n",
    "group_names = [\"<$626\", \"$626-638\", \"$638-650\", \">$650\"]"
   ]
  },
  {
   "cell_type": "code",
   "execution_count": 35,
   "metadata": {},
   "outputs": [],
   "source": [
    "# Sample bins. Feel free to create your own bins.\n",
    "size_bins = [0, 2000, 4000, 5000]\n",
    "group_names_size = [\"Small (<2000)\", \"Medium (2000-4000)\", \"Large (>4000)\"]"
   ]
  },
  {
   "cell_type": "code",
   "execution_count": 36,
   "metadata": {},
   "outputs": [],
   "source": [
    "# Create two new columns with the spending ranges and the school size group\n",
    "pycity_df[\"Spending Ranges (Per Student)\"] = pd.cut(pycity_df[\"Per Student Budget\"], spending_bins, labels=group_names)\n",
    "pycity_df[\"School Size Group\"] = pd.cut(pycity_df[\"School Size\"], size_bins, labels=group_names_size)\n"
   ]
  },
  {
   "cell_type": "code",
   "execution_count": 37,
   "metadata": {},
   "outputs": [],
   "source": [
    "# New table with the interesting values for analysis\n",
    "group_table = pycity_df[[\"Spending Ranges (Per Student)\", \"School Size Group\", \"Student Math Score\",\n",
    "                         \"Student Reading Score\", \"School Type\", \"School Size\", \"Per Student Budget\"]]"
   ]
  },
  {
   "cell_type": "code",
   "execution_count": 38,
   "metadata": {},
   "outputs": [],
   "source": [
    "# Group the table by the spending ranges created\n",
    "groupby_per_spending_range = group_table.groupby([\"Spending Ranges (Per Student)\"])\n",
    "\n",
    "# Count the number of students for each group\n",
    "student_per_spendingrange = groupby_per_spending_range[\"Student Math Score\"].count()"
   ]
  },
  {
   "cell_type": "code",
   "execution_count": 39,
   "metadata": {},
   "outputs": [],
   "source": [
    "# Select the math grades greater or equal to 70\n",
    "passing_math_group = group_table.loc[group_table[\"Student Math Score\"] >= 70]"
   ]
  },
  {
   "cell_type": "code",
   "execution_count": 40,
   "metadata": {},
   "outputs": [],
   "source": [
    "# Group by spending ranges the grades selected \n",
    "passing_math_per_spending = passing_math_group.groupby([\"Spending Ranges (Per Student)\"])\n",
    "\n",
    "# Count the number of grades in each group\n",
    "passing_math_per_spending = passing_math_per_spending[\"Student Math Score\"].count()"
   ]
  },
  {
   "cell_type": "code",
   "execution_count": 41,
   "metadata": {},
   "outputs": [],
   "source": [
    "# Calculate the percentage of passing math in each group\n",
    "percentage_passing_math_spending = passing_math_per_spending/student_per_spendingrange*100"
   ]
  },
  {
   "cell_type": "code",
   "execution_count": 42,
   "metadata": {},
   "outputs": [],
   "source": [
    "# The same as above for the reading grades\n",
    "passing_reading_group = group_table.loc[group_table[\"Student Reading Score\"] >= 70]"
   ]
  },
  {
   "cell_type": "code",
   "execution_count": 43,
   "metadata": {},
   "outputs": [],
   "source": [
    "# Group by spending ranges the grades selected\n",
    "passing_reading_per_spending = passing_reading_group.groupby([\"Spending Ranges (Per Student)\"])\n",
    "\n",
    "# Count the number of grades in each group\n",
    "passing_reading_per_spending = passing_reading_per_spending[\"Student Reading Score\"].count()"
   ]
  },
  {
   "cell_type": "code",
   "execution_count": 44,
   "metadata": {},
   "outputs": [],
   "source": [
    "# Calculate the percentage of passing math in each group\n",
    "percentage_passing_reading_spending = passing_reading_per_spending/student_per_spendingrange*100"
   ]
  },
  {
   "cell_type": "code",
   "execution_count": 45,
   "metadata": {},
   "outputs": [],
   "source": [
    "# Calculate the average budget per student for each group\n",
    "average_budget_student = groupby_per_spending_range[\"Per Student Budget\"].mean()"
   ]
  },
  {
   "cell_type": "code",
   "execution_count": 46,
   "metadata": {},
   "outputs": [],
   "source": [
    "# Calculate the average of math score\n",
    "average_math_spending_range = groupby_per_spending_range[\"Student Math Score\"].mean()"
   ]
  },
  {
   "cell_type": "code",
   "execution_count": 47,
   "metadata": {},
   "outputs": [],
   "source": [
    "# Calculate the average of reading score\n",
    "average_reading_spending_range = groupby_per_spending_range[\"Student Reading Score\"].mean()"
   ]
  },
  {
   "cell_type": "code",
   "execution_count": 48,
   "metadata": {},
   "outputs": [],
   "source": [
    "# Calculate the overall passing rate\n",
    "overall_passing_rate_spending = (percentage_passing_math_spending+percentage_passing_reading_spending)/2"
   ]
  },
  {
   "cell_type": "code",
   "execution_count": 49,
   "metadata": {},
   "outputs": [
    {
     "data": {
      "text/html": [
       "<style  type=\"text/css\" >\n",
       "</style><table id=\"T_2d4d3a5c_bbc0_11e9_badd_f40f2408072a\" ><thead>    <tr>        <th class=\"blank level0\" ></th>        <th class=\"col_heading level0 col0\" >Average Spending</th>        <th class=\"col_heading level0 col1\" >Total Students</th>        <th class=\"col_heading level0 col2\" >Average Math Score</th>        <th class=\"col_heading level0 col3\" >Average Reading Score</th>        <th class=\"col_heading level0 col4\" >Passing Math</th>        <th class=\"col_heading level0 col5\" >Passing Reading</th>        <th class=\"col_heading level0 col6\" >Overall Passing Rate</th>    </tr>    <tr>        <th class=\"index_name level0\" >Spending Ranges (Per Student)</th>        <th class=\"blank\" ></th>        <th class=\"blank\" ></th>        <th class=\"blank\" ></th>        <th class=\"blank\" ></th>        <th class=\"blank\" ></th>        <th class=\"blank\" ></th>        <th class=\"blank\" ></th>    </tr></thead><tbody>\n",
       "                <tr>\n",
       "                        <th id=\"T_2d4d3a5c_bbc0_11e9_badd_f40f2408072alevel0_row0\" class=\"row_heading level0 row0\" ><$626</th>\n",
       "                        <td id=\"T_2d4d3a5c_bbc0_11e9_badd_f40f2408072arow0_col0\" class=\"data row0 col0\" >$592.71</td>\n",
       "                        <td id=\"T_2d4d3a5c_bbc0_11e9_badd_f40f2408072arow0_col1\" class=\"data row0 col1\" >10,559</td>\n",
       "                        <td id=\"T_2d4d3a5c_bbc0_11e9_badd_f40f2408072arow0_col2\" class=\"data row0 col2\" >83.4</td>\n",
       "                        <td id=\"T_2d4d3a5c_bbc0_11e9_badd_f40f2408072arow0_col3\" class=\"data row0 col3\" >83.9</td>\n",
       "                        <td id=\"T_2d4d3a5c_bbc0_11e9_badd_f40f2408072arow0_col4\" class=\"data row0 col4\" >93.8%</td>\n",
       "                        <td id=\"T_2d4d3a5c_bbc0_11e9_badd_f40f2408072arow0_col5\" class=\"data row0 col5\" >96.5%</td>\n",
       "                        <td id=\"T_2d4d3a5c_bbc0_11e9_badd_f40f2408072arow0_col6\" class=\"data row0 col6\" >95.2%</td>\n",
       "            </tr>\n",
       "            <tr>\n",
       "                        <th id=\"T_2d4d3a5c_bbc0_11e9_badd_f40f2408072alevel0_row1\" class=\"row_heading level0 row1\" >$626-638</th>\n",
       "                        <td id=\"T_2d4d3a5c_bbc0_11e9_badd_f40f2408072arow1_col0\" class=\"data row1 col0\" >$632.93</td>\n",
       "                        <td id=\"T_2d4d3a5c_bbc0_11e9_badd_f40f2408072arow1_col1\" class=\"data row1 col1\" >10,610</td>\n",
       "                        <td id=\"T_2d4d3a5c_bbc0_11e9_badd_f40f2408072arow1_col2\" class=\"data row1 col2\" >78.0</td>\n",
       "                        <td id=\"T_2d4d3a5c_bbc0_11e9_badd_f40f2408072arow1_col3\" class=\"data row1 col3\" >81.4</td>\n",
       "                        <td id=\"T_2d4d3a5c_bbc0_11e9_badd_f40f2408072arow1_col4\" class=\"data row1 col4\" >70.7%</td>\n",
       "                        <td id=\"T_2d4d3a5c_bbc0_11e9_badd_f40f2408072arow1_col5\" class=\"data row1 col5\" >83.7%</td>\n",
       "                        <td id=\"T_2d4d3a5c_bbc0_11e9_badd_f40f2408072arow1_col6\" class=\"data row1 col6\" >77.2%</td>\n",
       "            </tr>\n",
       "            <tr>\n",
       "                        <th id=\"T_2d4d3a5c_bbc0_11e9_badd_f40f2408072alevel0_row2\" class=\"row_heading level0 row2\" >$638-650</th>\n",
       "                        <td id=\"T_2d4d3a5c_bbc0_11e9_badd_f40f2408072arow2_col0\" class=\"data row2 col0\" >$645.32</td>\n",
       "                        <td id=\"T_2d4d3a5c_bbc0_11e9_badd_f40f2408072arow2_col1\" class=\"data row2 col1\" >10,449</td>\n",
       "                        <td id=\"T_2d4d3a5c_bbc0_11e9_badd_f40f2408072arow2_col2\" class=\"data row2 col2\" >77.0</td>\n",
       "                        <td id=\"T_2d4d3a5c_bbc0_11e9_badd_f40f2408072arow2_col3\" class=\"data row2 col3\" >81.0</td>\n",
       "                        <td id=\"T_2d4d3a5c_bbc0_11e9_badd_f40f2408072arow2_col4\" class=\"data row2 col4\" >66.6%</td>\n",
       "                        <td id=\"T_2d4d3a5c_bbc0_11e9_badd_f40f2408072arow2_col5\" class=\"data row2 col5\" >80.6%</td>\n",
       "                        <td id=\"T_2d4d3a5c_bbc0_11e9_badd_f40f2408072arow2_col6\" class=\"data row2 col6\" >73.6%</td>\n",
       "            </tr>\n",
       "            <tr>\n",
       "                        <th id=\"T_2d4d3a5c_bbc0_11e9_badd_f40f2408072alevel0_row3\" class=\"row_heading level0 row3\" >>$650</th>\n",
       "                        <td id=\"T_2d4d3a5c_bbc0_11e9_badd_f40f2408072arow3_col0\" class=\"data row3 col0\" >$653.16</td>\n",
       "                        <td id=\"T_2d4d3a5c_bbc0_11e9_badd_f40f2408072arow3_col1\" class=\"data row3 col1\" >7,552</td>\n",
       "                        <td id=\"T_2d4d3a5c_bbc0_11e9_badd_f40f2408072arow3_col2\" class=\"data row3 col2\" >77.0</td>\n",
       "                        <td id=\"T_2d4d3a5c_bbc0_11e9_badd_f40f2408072arow3_col3\" class=\"data row3 col3\" >81.0</td>\n",
       "                        <td id=\"T_2d4d3a5c_bbc0_11e9_badd_f40f2408072arow3_col4\" class=\"data row3 col4\" >66.3%</td>\n",
       "                        <td id=\"T_2d4d3a5c_bbc0_11e9_badd_f40f2408072arow3_col5\" class=\"data row3 col5\" >81.0%</td>\n",
       "                        <td id=\"T_2d4d3a5c_bbc0_11e9_badd_f40f2408072arow3_col6\" class=\"data row3 col6\" >73.7%</td>\n",
       "            </tr>\n",
       "    </tbody></table>"
      ],
      "text/plain": [
       "<pandas.io.formats.style.Styler at 0x1152685f8>"
      ]
     },
     "execution_count": 49,
     "metadata": {},
     "output_type": "execute_result"
    }
   ],
   "source": [
    "# Make the DataFrame with the values\n",
    "scores_by_school_spending = pd.DataFrame({\"Average Spending\": average_budget_student,\n",
    "                                          \"Total Students\": student_per_spendingrange,\n",
    "                                          \"Average Math Score\": average_math_spending_range,\n",
    "                                         \"Average Reading Score\": average_reading_spending_range,\n",
    "                                         \"Passing Math\": percentage_passing_math_spending,\n",
    "                                         \"Passing Reading\": percentage_passing_reading_spending,\n",
    "                                         \"Overall Passing Rate\": overall_passing_rate_spending})\n",
    "\n",
    "format_group = {\"Average Spending\":\"${0:,.2f}\", \"Total Students\":\"{0:,.0f}\", \"Average Math Score\": \"{0:,.1f}\",\n",
    "               \"Average Reading Score\":\"{0:,.1f}\", \"Passing Math\": \"{0:,.1f}%\", \"Passing Reading\": \"{0:,.1f}%\",\n",
    "              \"Overall Passing Rate\": \"{0:,.1f}%\"}\n",
    "scores_by_school_spending = scores_by_school_spending.style.format(format_group)\n",
    "scores_by_school_spending"
   ]
  },
  {
   "cell_type": "markdown",
   "metadata": {},
   "source": [
    "The bins were chosen to have about the same number of students in each range. The better resulats are from the schools with the lower budget per student (593 USD average). However, as we seen above, the results are biased because the charter schools have the lower budget."
   ]
  },
  {
   "cell_type": "markdown",
   "metadata": {},
   "source": [
    "## Scores by School Size"
   ]
  },
  {
   "cell_type": "markdown",
   "metadata": {},
   "source": [
    "* Perform the same operations as above, based on school size."
   ]
  },
  {
   "cell_type": "code",
   "execution_count": 50,
   "metadata": {},
   "outputs": [],
   "source": [
    "# Group the data per school size range\n",
    "groupby_per_size_range = group_table.groupby([\"School Size Group\"])\n",
    "\n",
    "# Count the number of math score (or student) in each group\n",
    "student_per_sizegroup = groupby_per_size_range[\"Student Math Score\"].count()"
   ]
  },
  {
   "cell_type": "code",
   "execution_count": 51,
   "metadata": {},
   "outputs": [],
   "source": [
    "# Group by school size range the math scores greater or equal to 70\n",
    "passing_math_per_size = passing_math_group.groupby([\"School Size Group\"])"
   ]
  },
  {
   "cell_type": "code",
   "execution_count": 52,
   "metadata": {},
   "outputs": [],
   "source": [
    "# Count the number of math scores greater or equal to 70\n",
    "passing_math_per_size = passing_math_per_size[\"Student Math Score\"].count()"
   ]
  },
  {
   "cell_type": "code",
   "execution_count": 53,
   "metadata": {},
   "outputs": [],
   "source": [
    "# Calculate the percentage of passing math in each group\n",
    "percentage_passing_math_size = passing_math_per_size/student_per_sizegroup*100"
   ]
  },
  {
   "cell_type": "code",
   "execution_count": 54,
   "metadata": {},
   "outputs": [],
   "source": [
    "# Group by school size group the grades selected\n",
    "passing_reading_per_size = passing_reading_group.groupby([\"School Size Group\"])\n",
    "\n",
    "# Count the number of grades in each group\n",
    "passing_reading_per_size = passing_reading_per_size[\"Student Reading Score\"].count()"
   ]
  },
  {
   "cell_type": "code",
   "execution_count": 55,
   "metadata": {},
   "outputs": [],
   "source": [
    "# Calculate the percentage passing reading in each group\n",
    "percentage_passing_reading_size = passing_reading_per_size/student_per_sizegroup*100"
   ]
  },
  {
   "cell_type": "code",
   "execution_count": 56,
   "metadata": {},
   "outputs": [],
   "source": [
    "# Calculate the average size school for each school size group\n",
    "average_size_school = groupby_per_size_range[\"School Size\"].mean()"
   ]
  },
  {
   "cell_type": "code",
   "execution_count": 57,
   "metadata": {},
   "outputs": [],
   "source": [
    "# Calculate the average spending for each school size group\n",
    "average_spending_size = groupby_per_size_range[\"Per Student Budget\"].mean()"
   ]
  },
  {
   "cell_type": "code",
   "execution_count": 58,
   "metadata": {},
   "outputs": [],
   "source": [
    "# Calculate the average math score for each school size group\n",
    "average_math_size_range = groupby_per_size_range[\"Student Math Score\"].mean()"
   ]
  },
  {
   "cell_type": "code",
   "execution_count": 59,
   "metadata": {},
   "outputs": [],
   "source": [
    "# Calculate the average reading score for each school size group\n",
    "average_reading_size_range = groupby_per_size_range[\"Student Reading Score\"].mean()"
   ]
  },
  {
   "cell_type": "code",
   "execution_count": 60,
   "metadata": {},
   "outputs": [],
   "source": [
    "# Calculate the overall passing rate\n",
    "overall_passing_rate_size = (percentage_passing_math_size+percentage_passing_reading_size)/2"
   ]
  },
  {
   "cell_type": "code",
   "execution_count": 61,
   "metadata": {},
   "outputs": [
    {
     "data": {
      "text/html": [
       "<style  type=\"text/css\" >\n",
       "</style><table id=\"T_2d6b2558_bbc0_11e9_a0a3_f40f2408072a\" ><thead>    <tr>        <th class=\"blank level0\" ></th>        <th class=\"col_heading level0 col0\" >Average Size</th>        <th class=\"col_heading level0 col1\" >Total Students</th>        <th class=\"col_heading level0 col2\" >Average Spending</th>        <th class=\"col_heading level0 col3\" >Average Math Score</th>        <th class=\"col_heading level0 col4\" >Average Reading Score</th>        <th class=\"col_heading level0 col5\" >Passing Math</th>        <th class=\"col_heading level0 col6\" >Passing Reading</th>        <th class=\"col_heading level0 col7\" >Overall Passing Rate</th>    </tr>    <tr>        <th class=\"index_name level0\" >School Size Group</th>        <th class=\"blank\" ></th>        <th class=\"blank\" ></th>        <th class=\"blank\" ></th>        <th class=\"blank\" ></th>        <th class=\"blank\" ></th>        <th class=\"blank\" ></th>        <th class=\"blank\" ></th>        <th class=\"blank\" ></th>    </tr></thead><tbody>\n",
       "                <tr>\n",
       "                        <th id=\"T_2d6b2558_bbc0_11e9_a0a3_f40f2408072alevel0_row0\" class=\"row_heading level0 row0\" >Small (<2000)</th>\n",
       "                        <td id=\"T_2d6b2558_bbc0_11e9_a0a3_f40f2408072arow0_col0\" class=\"data row0 col0\" >1,587</td>\n",
       "                        <td id=\"T_2d6b2558_bbc0_11e9_a0a3_f40f2408072arow0_col1\" class=\"data row0 col1\" >9,911</td>\n",
       "                        <td id=\"T_2d6b2558_bbc0_11e9_a0a3_f40f2408072arow0_col2\" class=\"data row0 col2\" >$603.56</td>\n",
       "                        <td id=\"T_2d6b2558_bbc0_11e9_a0a3_f40f2408072arow0_col3\" class=\"data row0 col3\" >83.4</td>\n",
       "                        <td id=\"T_2d6b2558_bbc0_11e9_a0a3_f40f2408072arow0_col4\" class=\"data row0 col4\" >83.9</td>\n",
       "                        <td id=\"T_2d6b2558_bbc0_11e9_a0a3_f40f2408072arow0_col5\" class=\"data row0 col5\" >93.7%</td>\n",
       "                        <td id=\"T_2d6b2558_bbc0_11e9_a0a3_f40f2408072arow0_col6\" class=\"data row0 col6\" >96.7%</td>\n",
       "                        <td id=\"T_2d6b2558_bbc0_11e9_a0a3_f40f2408072arow0_col7\" class=\"data row0 col7\" >95.2%</td>\n",
       "            </tr>\n",
       "            <tr>\n",
       "                        <th id=\"T_2d6b2558_bbc0_11e9_a0a3_f40f2408072alevel0_row1\" class=\"row_heading level0 row1\" >Medium (2000-4000)</th>\n",
       "                        <td id=\"T_2d6b2558_bbc0_11e9_a0a3_f40f2408072arow1_col0\" class=\"data row1 col0\" >3,084</td>\n",
       "                        <td id=\"T_2d6b2558_bbc0_11e9_a0a3_f40f2408072arow1_col1\" class=\"data row1 col1\" >14,887</td>\n",
       "                        <td id=\"T_2d6b2558_bbc0_11e9_a0a3_f40f2408072arow1_col2\" class=\"data row1 col2\" >$633.16</td>\n",
       "                        <td id=\"T_2d6b2558_bbc0_11e9_a0a3_f40f2408072arow1_col3\" class=\"data row1 col3\" >77.8</td>\n",
       "                        <td id=\"T_2d6b2558_bbc0_11e9_a0a3_f40f2408072arow1_col4\" class=\"data row1 col4\" >81.4</td>\n",
       "                        <td id=\"T_2d6b2558_bbc0_11e9_a0a3_f40f2408072arow1_col5\" class=\"data row1 col5\" >70.7%</td>\n",
       "                        <td id=\"T_2d6b2558_bbc0_11e9_a0a3_f40f2408072arow1_col6\" class=\"data row1 col6\" >82.9%</td>\n",
       "                        <td id=\"T_2d6b2558_bbc0_11e9_a0a3_f40f2408072arow1_col7\" class=\"data row1 col7\" >76.8%</td>\n",
       "            </tr>\n",
       "            <tr>\n",
       "                        <th id=\"T_2d6b2558_bbc0_11e9_a0a3_f40f2408072alevel0_row2\" class=\"row_heading level0 row2\" >Large (>4000)</th>\n",
       "                        <td id=\"T_2d6b2558_bbc0_11e9_a0a3_f40f2408072arow2_col0\" class=\"data row2 col0\" >4,795</td>\n",
       "                        <td id=\"T_2d6b2558_bbc0_11e9_a0a3_f40f2408072arow2_col1\" class=\"data row2 col1\" >14,372</td>\n",
       "                        <td id=\"T_2d6b2558_bbc0_11e9_a0a3_f40f2408072arow2_col2\" class=\"data row2 col2\" >$643.03</td>\n",
       "                        <td id=\"T_2d6b2558_bbc0_11e9_a0a3_f40f2408072arow2_col3\" class=\"data row2 col3\" >77.1</td>\n",
       "                        <td id=\"T_2d6b2558_bbc0_11e9_a0a3_f40f2408072arow2_col4\" class=\"data row2 col4\" >81.0</td>\n",
       "                        <td id=\"T_2d6b2558_bbc0_11e9_a0a3_f40f2408072arow2_col5\" class=\"data row2 col5\" >66.5%</td>\n",
       "                        <td id=\"T_2d6b2558_bbc0_11e9_a0a3_f40f2408072arow2_col6\" class=\"data row2 col6\" >81.4%</td>\n",
       "                        <td id=\"T_2d6b2558_bbc0_11e9_a0a3_f40f2408072arow2_col7\" class=\"data row2 col7\" >73.9%</td>\n",
       "            </tr>\n",
       "    </tbody></table>"
      ],
      "text/plain": [
       "<pandas.io.formats.style.Styler at 0x115286358>"
      ]
     },
     "execution_count": 61,
     "metadata": {},
     "output_type": "execute_result"
    }
   ],
   "source": [
    "# Make the DataFrame with the values\n",
    "scores_by_school_size = pd.DataFrame({\"Average Size\": average_size_school,\n",
    "                                      \"Total Students\": student_per_sizegroup,\n",
    "                                      \"Average Spending\": average_spending_size,\n",
    "                                      \"Average Math Score\": average_math_size_range,\n",
    "                                         \"Average Reading Score\": average_reading_size_range,\n",
    "                                         \"Passing Math\": percentage_passing_math_size,\n",
    "                                         \"Passing Reading\": percentage_passing_reading_size,\n",
    "                                         \"Overall Passing Rate\": overall_passing_rate_size})\n",
    "\n",
    "format_group = {\"Average Size\":\"{0:,.0f}\", \"Total Students\":\"{0:,.0f}\", \"Average Spending\":\"${0:,.2f}\", \"Average Math Score\": \"{0:,.1f}\",\n",
    "               \"Average Reading Score\":\"{0:,.1f}\", \"Passing Math\": \"{0:,.1f}%\", \"Passing Reading\": \"{0:,.1f}%\",\n",
    "              \"Overall Passing Rate\": \"{0:,.1f}%\"}\n",
    "scores_by_school_size = scores_by_school_size.style.format(format_group)\n",
    "scores_by_school_size\n"
   ]
  },
  {
   "cell_type": "markdown",
   "metadata": {
    "scrolled": true
   },
   "source": [
    "The bins were chosen to have about the same number of students in each range.\n",
    "Smaller schools (< 2000 students) have better results, and the difference is greater for the \"passing math\" than for the \"passing reading\".\n",
    "Smaller schools have also an average spending per student lower (604 USD) than the \"Medium\" and \"Large\" schools.\n",
    "Smaller schools are half the size of medium schools with the bins chosen."
   ]
  },
  {
   "cell_type": "markdown",
   "metadata": {},
   "source": [
    "## Scores by School Type"
   ]
  },
  {
   "cell_type": "markdown",
   "metadata": {},
   "source": [
    "* Perform the same operations as above, based on school type."
   ]
  },
  {
   "cell_type": "code",
   "execution_count": 62,
   "metadata": {},
   "outputs": [],
   "source": [
    "# Group the data per school type\n",
    "groupby_per_type_range = group_table.groupby([\"School Type\"])\n",
    "\n",
    "# Count the number of math score (or student) in each group\n",
    "student_per_typerange = groupby_per_type_range[\"Student Math Score\"].count()"
   ]
  },
  {
   "cell_type": "code",
   "execution_count": 63,
   "metadata": {},
   "outputs": [],
   "source": [
    "# Select the math scores greater or equal to 70\n",
    "passing_math_group = group_table.loc[group_table[\"Student Math Score\"] >= 70]"
   ]
  },
  {
   "cell_type": "code",
   "execution_count": 64,
   "metadata": {},
   "outputs": [],
   "source": [
    "# Group by school type range the math scores greater or equal to 70\n",
    "passing_math_per_type = passing_math_group.groupby([\"School Type\"])\n",
    "\n",
    "# Count the math scores\n",
    "passing_math_per_type = passing_math_per_type[\"Student Math Score\"].count()"
   ]
  },
  {
   "cell_type": "code",
   "execution_count": 65,
   "metadata": {},
   "outputs": [],
   "source": [
    "# Calculate the percentage of student passing math\n",
    "percentage_passing_math_type = passing_math_per_type/student_per_typerange*100"
   ]
  },
  {
   "cell_type": "code",
   "execution_count": 66,
   "metadata": {},
   "outputs": [],
   "source": [
    "# Select the reading scores greater or equal to 70\n",
    "passing_reading_group = group_table.loc[group_table[\"Student Reading Score\"] >= 70]"
   ]
  },
  {
   "cell_type": "code",
   "execution_count": 67,
   "metadata": {},
   "outputs": [],
   "source": [
    "# Group by school type range the reading scores greater or equal to 70\n",
    "passing_reading_per_type = passing_reading_group.groupby([\"School Type\"])\n",
    "\n",
    "# Count the reading scores\n",
    "passing_reading_per_type = passing_reading_per_type[\"Student Reading Score\"].count()"
   ]
  },
  {
   "cell_type": "code",
   "execution_count": 68,
   "metadata": {},
   "outputs": [],
   "source": [
    "# Calculate the percentage of student passing reading\n",
    "percentage_passing_reading_type = passing_reading_per_type/student_per_typerange*100"
   ]
  },
  {
   "cell_type": "code",
   "execution_count": 69,
   "metadata": {},
   "outputs": [],
   "source": [
    "# Calculate the average size of schools\n",
    "average_size_type = groupby_per_type_range[\"School Size\"].mean()"
   ]
  },
  {
   "cell_type": "code",
   "execution_count": 70,
   "metadata": {},
   "outputs": [],
   "source": [
    "# Calculate the average spending per student\n",
    "average_spending_type = groupby_per_type_range[\"Per Student Budget\"].mean()"
   ]
  },
  {
   "cell_type": "code",
   "execution_count": 71,
   "metadata": {},
   "outputs": [],
   "source": [
    "# Calculate the average math score\n",
    "average_math_type_range = groupby_per_type_range[\"Student Math Score\"].mean()"
   ]
  },
  {
   "cell_type": "code",
   "execution_count": 72,
   "metadata": {},
   "outputs": [],
   "source": [
    "# Calculate the average reading score\n",
    "average_reading_type_range = groupby_per_type_range[\"Student Reading Score\"].mean()"
   ]
  },
  {
   "cell_type": "code",
   "execution_count": 73,
   "metadata": {},
   "outputs": [],
   "source": [
    "# Calculate the average passing rate\n",
    "overall_passing_rate_type = (percentage_passing_math_type+percentage_passing_reading_type)/2"
   ]
  },
  {
   "cell_type": "code",
   "execution_count": 74,
   "metadata": {},
   "outputs": [
    {
     "data": {
      "text/html": [
       "<style  type=\"text/css\" >\n",
       "</style><table id=\"T_2d916858_bbc0_11e9_95a1_f40f2408072a\" ><thead>    <tr>        <th class=\"blank level0\" ></th>        <th class=\"col_heading level0 col0\" >Total Students</th>        <th class=\"col_heading level0 col1\" >Average Size</th>        <th class=\"col_heading level0 col2\" >Average Spending</th>        <th class=\"col_heading level0 col3\" >Average Math Score</th>        <th class=\"col_heading level0 col4\" >Average Reading Score</th>        <th class=\"col_heading level0 col5\" >Passing Math</th>        <th class=\"col_heading level0 col6\" >Passing Reading</th>        <th class=\"col_heading level0 col7\" >Overall Passing Rate</th>    </tr>    <tr>        <th class=\"index_name level0\" >School Type</th>        <th class=\"blank\" ></th>        <th class=\"blank\" ></th>        <th class=\"blank\" ></th>        <th class=\"blank\" ></th>        <th class=\"blank\" ></th>        <th class=\"blank\" ></th>        <th class=\"blank\" ></th>        <th class=\"blank\" ></th>    </tr></thead><tbody>\n",
       "                <tr>\n",
       "                        <th id=\"T_2d916858_bbc0_11e9_95a1_f40f2408072alevel0_row0\" class=\"row_heading level0 row0\" >Charter</th>\n",
       "                        <td id=\"T_2d916858_bbc0_11e9_95a1_f40f2408072arow0_col0\" class=\"data row0 col0\" >12,194</td>\n",
       "                        <td id=\"T_2d916858_bbc0_11e9_95a1_f40f2408072arow0_col1\" class=\"data row0 col1\" >1,717</td>\n",
       "                        <td id=\"T_2d916858_bbc0_11e9_95a1_f40f2408072arow0_col2\" class=\"data row0 col2\" >$598.78</td>\n",
       "                        <td id=\"T_2d916858_bbc0_11e9_95a1_f40f2408072arow0_col3\" class=\"data row0 col3\" >83.4</td>\n",
       "                        <td id=\"T_2d916858_bbc0_11e9_95a1_f40f2408072arow0_col4\" class=\"data row0 col4\" >83.9</td>\n",
       "                        <td id=\"T_2d916858_bbc0_11e9_95a1_f40f2408072arow0_col5\" class=\"data row0 col5\" >93.7%</td>\n",
       "                        <td id=\"T_2d916858_bbc0_11e9_95a1_f40f2408072arow0_col6\" class=\"data row0 col6\" >96.6%</td>\n",
       "                        <td id=\"T_2d916858_bbc0_11e9_95a1_f40f2408072arow0_col7\" class=\"data row0 col7\" >95.2%</td>\n",
       "            </tr>\n",
       "            <tr>\n",
       "                        <th id=\"T_2d916858_bbc0_11e9_95a1_f40f2408072alevel0_row1\" class=\"row_heading level0 row1\" >District</th>\n",
       "                        <td id=\"T_2d916858_bbc0_11e9_95a1_f40f2408072arow1_col0\" class=\"data row1 col0\" >26,976</td>\n",
       "                        <td id=\"T_2d916858_bbc0_11e9_95a1_f40f2408072arow1_col1\" class=\"data row1 col1\" >4,063</td>\n",
       "                        <td id=\"T_2d916858_bbc0_11e9_95a1_f40f2408072arow1_col2\" class=\"data row1 col2\" >$643.09</td>\n",
       "                        <td id=\"T_2d916858_bbc0_11e9_95a1_f40f2408072arow1_col3\" class=\"data row1 col3\" >77.0</td>\n",
       "                        <td id=\"T_2d916858_bbc0_11e9_95a1_f40f2408072arow1_col4\" class=\"data row1 col4\" >81.0</td>\n",
       "                        <td id=\"T_2d916858_bbc0_11e9_95a1_f40f2408072arow1_col5\" class=\"data row1 col5\" >66.5%</td>\n",
       "                        <td id=\"T_2d916858_bbc0_11e9_95a1_f40f2408072arow1_col6\" class=\"data row1 col6\" >80.9%</td>\n",
       "                        <td id=\"T_2d916858_bbc0_11e9_95a1_f40f2408072arow1_col7\" class=\"data row1 col7\" >73.7%</td>\n",
       "            </tr>\n",
       "    </tbody></table>"
      ],
      "text/plain": [
       "<pandas.io.formats.style.Styler at 0x112e7c0f0>"
      ]
     },
     "execution_count": 74,
     "metadata": {},
     "output_type": "execute_result"
    }
   ],
   "source": [
    "# Make the DataFrame with the values\n",
    "scores_by_school_type = pd.DataFrame({\"Total Students\": student_per_typerange,\n",
    "                                      \"Average Size\": average_size_type,\n",
    "                                      \"Average Spending\": average_spending_type,\n",
    "                                      \"Average Math Score\": average_math_type_range,\n",
    "                                         \"Average Reading Score\": average_reading_type_range,\n",
    "                                         \"Passing Math\": percentage_passing_math_type,\n",
    "                                         \"Passing Reading\": percentage_passing_reading_type,\n",
    "                                         \"Overall Passing Rate\": overall_passing_rate_type})\n",
    "\n",
    "format_group = {\"Total Students\":\"{0:,.0f}\", \"Average Size\": \"{0:,.0f}\", \"Average Spending\":\"${0:,.2f}\", \"Average Math Score\": \"{0:,.1f}\",\n",
    "               \"Average Reading Score\":\"{0:,.1f}\", \"Passing Math\": \"{0:,.1f}%\", \"Passing Reading\": \"{0:,.1f}%\",\n",
    "              \"Overall Passing Rate\": \"{0:,.1f}%\"}\n",
    "scores_by_school_type = scores_by_school_type.style.format(format_group)\n",
    "scores_by_school_type"
   ]
  },
  {
   "cell_type": "markdown",
   "metadata": {},
   "source": [
    "This board confirm previous trends in particular the best results for the charter schools and the difference is bigger for maths.\n",
    "Charter schools spend 599 USD per student vs 643 USD for public schools.\n",
    "Of the 39,170 students, almost 27,000 are in a public schools.\n",
    "Charter schools have less students than the district schools (1,717 vs 4,063).\n",
    "\n",
    "It is still difficult to define the factor having the greatest impact on the results, between size and type of schools but definitely, the budget per student doesn't help to have better results.\n"
   ]
  },
  {
   "cell_type": "markdown",
   "metadata": {},
   "source": [
    "# Complementary analysis"
   ]
  },
  {
   "cell_type": "raw",
   "metadata": {},
   "source": [
    "Using the math scores because it's the subject having the biggest differences, we could use complementary analysis."
   ]
  },
  {
   "cell_type": "code",
   "execution_count": 77,
   "metadata": {},
   "outputs": [
    {
     "data": {
      "text/html": [
       "<div>\n",
       "<style scoped>\n",
       "    .dataframe tbody tr th:only-of-type {\n",
       "        vertical-align: middle;\n",
       "    }\n",
       "\n",
       "    .dataframe tbody tr th {\n",
       "        vertical-align: top;\n",
       "    }\n",
       "\n",
       "    .dataframe thead th {\n",
       "        text-align: right;\n",
       "    }\n",
       "</style>\n",
       "<table border=\"1\" class=\"dataframe\">\n",
       "  <thead>\n",
       "    <tr style=\"text-align: right;\">\n",
       "      <th>Spending Ranges (Per Student)</th>\n",
       "      <th>&lt;$626</th>\n",
       "      <th>$626-638</th>\n",
       "      <th>$638-650</th>\n",
       "      <th>&gt;$650</th>\n",
       "    </tr>\n",
       "    <tr>\n",
       "      <th>School Type</th>\n",
       "      <th></th>\n",
       "      <th></th>\n",
       "      <th></th>\n",
       "      <th></th>\n",
       "    </tr>\n",
       "  </thead>\n",
       "  <tbody>\n",
       "    <tr>\n",
       "      <th>Charter</th>\n",
       "      <td>83.4</td>\n",
       "      <td>83.4</td>\n",
       "      <td>NaN</td>\n",
       "      <td>NaN</td>\n",
       "    </tr>\n",
       "    <tr>\n",
       "      <th>District</th>\n",
       "      <td>NaN</td>\n",
       "      <td>77.0</td>\n",
       "      <td>77.0</td>\n",
       "      <td>77.0</td>\n",
       "    </tr>\n",
       "  </tbody>\n",
       "</table>\n",
       "</div>"
      ],
      "text/plain": [
       "Spending Ranges (Per Student)  <$626  $626-638  $638-650  >$650\n",
       "School Type                                                    \n",
       "Charter                         83.4      83.4       NaN    NaN\n",
       "District                         NaN      77.0      77.0   77.0"
      ]
     },
     "execution_count": 77,
     "metadata": {},
     "output_type": "execute_result"
    }
   ],
   "source": [
    "# using a pivot table to show math scores with school type and spending ranges\n",
    "analyse_pivot = group_table.pivot_table(values= \"Student Math Score\",\n",
    "                                   index=\"School Type\", columns=\"Spending Ranges (Per Student)\",\n",
    "                                   aggfunc=np.mean)\n",
    "analyse_pivot = np.round(analyse_pivot, 1)\n",
    "#grade_reading_pivot = grade_reading_pivot.reindex(['9th','10th', '11th','12th'], axis=1)\n",
    "analyse_pivot"
   ]
  },
  {
   "cell_type": "markdown",
   "metadata": {},
   "source": [
    "This board show us that in the same spending range (626-638 USD), we have math score results different in charter and district schools. However, the resultats are the same in each spending range for the same school type."
   ]
  },
  {
   "cell_type": "code",
   "execution_count": 79,
   "metadata": {},
   "outputs": [
    {
     "data": {
      "text/html": [
       "<div>\n",
       "<style scoped>\n",
       "    .dataframe tbody tr th:only-of-type {\n",
       "        vertical-align: middle;\n",
       "    }\n",
       "\n",
       "    .dataframe tbody tr th {\n",
       "        vertical-align: top;\n",
       "    }\n",
       "\n",
       "    .dataframe thead th {\n",
       "        text-align: right;\n",
       "    }\n",
       "</style>\n",
       "<table border=\"1\" class=\"dataframe\">\n",
       "  <thead>\n",
       "    <tr style=\"text-align: right;\">\n",
       "      <th>School Size Group</th>\n",
       "      <th>Small (&lt;2000)</th>\n",
       "      <th>Medium (2000-4000)</th>\n",
       "      <th>Large (&gt;4000)</th>\n",
       "    </tr>\n",
       "    <tr>\n",
       "      <th>School Type</th>\n",
       "      <th></th>\n",
       "      <th></th>\n",
       "      <th></th>\n",
       "    </tr>\n",
       "  </thead>\n",
       "  <tbody>\n",
       "    <tr>\n",
       "      <th>Charter</th>\n",
       "      <td>83.4</td>\n",
       "      <td>83.3</td>\n",
       "      <td>NaN</td>\n",
       "    </tr>\n",
       "    <tr>\n",
       "      <th>District</th>\n",
       "      <td>NaN</td>\n",
       "      <td>76.8</td>\n",
       "      <td>77.1</td>\n",
       "    </tr>\n",
       "  </tbody>\n",
       "</table>\n",
       "</div>"
      ],
      "text/plain": [
       "School Size Group  Small (<2000)  Medium (2000-4000)  Large (>4000)\n",
       "School Type                                                        \n",
       "Charter                     83.4                83.3            NaN\n",
       "District                     NaN                76.8           77.1"
      ]
     },
     "execution_count": 79,
     "metadata": {},
     "output_type": "execute_result"
    }
   ],
   "source": [
    "# using a pivot table to show math scores with school type and school size\n",
    "analyse_pivot = group_table.pivot_table(values= \"Student Math Score\",\n",
    "                                   index=\"School Type\", columns=\"School Size Group\",\n",
    "                                   aggfunc=np.mean)\n",
    "analyse_pivot = np.round(analyse_pivot, 1)\n",
    "analyse_pivot"
   ]
  },
  {
   "cell_type": "markdown",
   "metadata": {},
   "source": [
    "This board show us that the size doesn't seem to impact the results, no matter what type of school. But for the medium schools, there is a difference on the results between charter and district schools."
   ]
  },
  {
   "cell_type": "markdown",
   "metadata": {},
   "source": [
    " More analysis should be done to know if the effect on results is due to school practices, or may be the number of students per classroom."
   ]
  }
 ],
 "metadata": {
  "anaconda-cloud": {},
  "kernel_info": {
   "name": "python3"
  },
  "kernelspec": {
   "display_name": "Python [conda env:pandas] *",
   "language": "python",
   "name": "conda-env-pandas-py"
  },
  "language_info": {
   "codemirror_mode": {
    "name": "ipython",
    "version": 3
   },
   "file_extension": ".py",
   "mimetype": "text/x-python",
   "name": "python",
   "nbconvert_exporter": "python",
   "pygments_lexer": "ipython3",
   "version": "3.6.8"
  },
  "latex_envs": {
   "LaTeX_envs_menu_present": true,
   "autoclose": false,
   "autocomplete": true,
   "bibliofile": "biblio.bib",
   "cite_by": "apalike",
   "current_citInitial": 1,
   "eqLabelWithNumbers": true,
   "eqNumInitial": 1,
   "hotkeys": {
    "equation": "Ctrl-E",
    "itemize": "Ctrl-I"
   },
   "labels_anchors": false,
   "latex_user_defs": false,
   "report_style_numbering": false,
   "user_envs_cfg": false
  },
  "nteract": {
   "version": "0.8.4"
  }
 },
 "nbformat": 4,
 "nbformat_minor": 1
}
